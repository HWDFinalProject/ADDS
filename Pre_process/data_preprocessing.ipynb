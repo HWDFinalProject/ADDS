{
  "cells": [
    {
      "cell_type": "markdown",
      "metadata": {
        "id": "p2bYglnWTw4g"
      },
      "source": [
        "# Google Drive Mount"
      ]
    },
    {
      "cell_type": "code",
      "execution_count": null,
      "metadata": {
        "colab": {
          "base_uri": "https://localhost:8080/"
        },
        "id": "cXPNLnaQTsGL",
        "outputId": "f04c3473-018c-4556-b75c-4a595a1bc685"
      },
      "outputs": [
        {
          "output_type": "stream",
          "name": "stdout",
          "text": [
            "Drive already mounted at /content/drive; to attempt to forcibly remount, call drive.mount(\"/content/drive\", force_remount=True).\n"
          ]
        }
      ],
      "source": [
        "from google.colab import drive\n",
        "import os\n",
        "drive.mount('/content/drive')\n",
        "os.chdir('/content/drive/MyDrive/final_project/김예지')"
      ]
    },
    {
      "cell_type": "markdown",
      "metadata": {
        "id": "bjc_AtU6VIFp"
      },
      "source": [
        "# Load Data"
      ]
    },
    {
      "cell_type": "markdown",
      "metadata": {
        "id": "5FVBpfLwWCwW"
      },
      "source": [
        "### Unzip file"
      ]
    },
    {
      "cell_type": "code",
      "source": [
        "!pwd"
      ],
      "metadata": {
        "colab": {
          "base_uri": "https://localhost:8080/"
        },
        "id": "_yufPbSpehQW",
        "outputId": "ad3a1a5a-26b0-48b5-9504-2d8e971b7766"
      },
      "execution_count": null,
      "outputs": [
        {
          "output_type": "stream",
          "name": "stdout",
          "text": [
            "/content/drive/MyDrive/final_project/김예지\n"
          ]
        }
      ]
    },
    {
      "cell_type": "code",
      "execution_count": null,
      "metadata": {
        "colab": {
          "base_uri": "https://localhost:8080/"
        },
        "id": "2NCGDsIJVJZh",
        "outputId": "b3f4732c-4eef-4557-c104-223803d80d2b"
      },
      "outputs": [
        {
          "output_type": "stream",
          "name": "stdout",
          "text": [
            "압축 해제 경로: data/origin\n"
          ]
        }
      ],
      "source": [
        "import zipfile\n",
        "import os\n",
        "\n",
        "input_path = 'data/kakao_origin.zip'\n",
        "output_dir = 'data/origin'\n",
        "\n",
        "os.makedirs(output_dir, exist_ok=True)\n",
        "\n",
        "with zipfile.ZipFile(input_path, 'r') as zip_ref:\n",
        "    zip_ref.extractall(output_dir)\n",
        "\n",
        "print(f\"압축 해제 경로: {output_dir}\")"
      ]
    },
    {
      "cell_type": "markdown",
      "metadata": {
        "id": "U2zfC9JfVFep"
      },
      "source": [
        "# Image Tiling"
      ]
    },
    {
      "cell_type": "code",
      "source": [
        "import numpy as np\n",
        "import cv2\n",
        "from skimage.util import view_as_windows\n",
        "import matplotlib.pyplot as plt\n",
        "from PIL import Image\n",
        "import os\n",
        "from tqdm import tqdm\n",
        "\n",
        "img_dir = 'data/origin/'\n",
        "file_names = [file for file in os.listdir(img_dir) if os.path.isfile(os.path.join(img_dir, file))]\n",
        "len(file_names)"
      ],
      "metadata": {
        "colab": {
          "base_uri": "https://localhost:8080/"
        },
        "id": "ctkU3sVt-QRr",
        "outputId": "3abaf596-bf8f-4adf-c2e0-3d673b97596b"
      },
      "execution_count": null,
      "outputs": [
        {
          "output_type": "execute_result",
          "data": {
            "text/plain": [
              "3533"
            ]
          },
          "metadata": {},
          "execution_count": 4
        }
      ]
    },
    {
      "cell_type": "code",
      "execution_count": null,
      "metadata": {
        "colab": {
          "base_uri": "https://localhost:8080/"
        },
        "id": "Ouf-YyShW6vy",
        "outputId": "6fa8cb7c-f700-4733-ff3f-bf15a2c4705b"
      },
      "outputs": [
        {
          "output_type": "stream",
          "name": "stderr",
          "text": [
            "100%|██████████| 3533/3533 [1:03:40<00:00,  1.08s/it]\n"
          ]
        }
      ],
      "source": [
        "for img_file in tqdm(file_names):\n",
        "  img_path = img_dir + img_file\n",
        "\n",
        "  img = cv2.imread(img_path, cv2.IMREAD_COLOR)\n",
        "  img = cv2.cvtColor(img, cv2.COLOR_BGR2RGB)\n",
        "\n",
        "  tile_size = 512\n",
        "  stride = 256\n",
        "\n",
        "  tiles = view_as_windows(img, (tile_size, tile_size, 3), step=stride)\n",
        "  tiles = tiles.squeeze(axis=2)\n",
        "\n",
        "  num_rows, num_cols, tile_height, tile_width, num_channels = tiles.shape\n",
        "\n",
        "  tile_list = []\n",
        "  for i in range(num_rows):\n",
        "      for j in range(num_cols):\n",
        "          tile = tiles[i, j]\n",
        "          tile_list.append(tile)\n",
        "\n",
        "  # 타일링 경로\n",
        "  tiling_dir = 'data/tiling'\n",
        "  os.makedirs(tiling_dir, exist_ok=True)\n",
        "\n",
        "  for i in range(len(tile_list)):\n",
        "    # 학습용 ----------------------------\n",
        "    # img_array = tile_list[i]\n",
        "    # img = Image.fromarray(img_array)\n",
        "    # fN = img_file.split('_')\n",
        "    # fileName = tiling_dir + \"/\" + str(fN[2]) + '_' + str(fN[3]) + '_' + str(i+1)  + '.png'\n",
        "    # img.save(fileName)\n",
        "\n",
        "    # 테스트용(카카오맵) --------------------------------\n",
        "    img_array = tile_list[i]\n",
        "    img = Image.fromarray(img_array)\n",
        "    fN = img_file.split('.png')[0]\n",
        "    fileName = tiling_dir + '/' + fN + '_' + str(i+1) + '.png'\n",
        "    img.save(fileName)"
      ]
    },
    {
      "cell_type": "code",
      "source": [
        "img_dir = '/content/drive/MyDrive/final_project/김예지/data/tiling/'\n",
        "file_names = [file for file in os.listdir(img_dir) if os.path.isfile(os.path.join(img_dir, file))]\n",
        "len(file_names)"
      ],
      "metadata": {
        "colab": {
          "base_uri": "https://localhost:8080/"
        },
        "id": "dmy4sNdNpJBj",
        "outputId": "8598facf-7091-4e9d-dffe-0a29b4892a60"
      },
      "execution_count": null,
      "outputs": [
        {
          "output_type": "execute_result",
          "data": {
            "text/plain": [
              "31797"
            ]
          },
          "metadata": {},
          "execution_count": 10
        }
      ]
    },
    {
      "cell_type": "code",
      "source": [
        "import os\n",
        "import zipfile\n",
        "from concurrent.futures import ThreadPoolExecutor\n",
        "from tqdm import tqdm\n",
        "\n",
        "tiling_dir =  '/content/drive/MyDrive/final_project/김예지/data/tiling'\n",
        "output_dir = \"/content/drive/MyDrive/final_project/김예지/data/tiling_zip\"\n",
        "os.makedirs(output_dir, exist_ok=True)\n",
        "\n",
        "file_list = sorted([os.path.join(tiling_dir, f) for f in os.listdir(tiling_dir) if f.endswith('.png')])\n",
        "\n",
        "num_files = len(file_list)\n",
        "split_size = num_files // 15\n",
        "file_groups = [file_list[i * split_size : (i + 1) * split_size] for i in range(14)]\n",
        "file_groups.append(file_list[14 * split_size:])\n",
        "\n",
        "def compress_files(index, group):\n",
        "    zip_filename = os.path.join(output_dir, f'tiling_part{index+1}.zip')\n",
        "    with zipfile.ZipFile(zip_filename, 'w', zipfile.ZIP_DEFLATED) as zipf:\n",
        "        for file in group:\n",
        "            zipf.write(file, os.path.basename(file))\n",
        "    print(f\"✅ {zip_filename} 생성 완료!\")\n",
        "\n",
        "with ThreadPoolExecutor(max_workers = 4) as executor:\n",
        "    list(tqdm(executor.map(compress_files, range(15), file_groups), total=15))\n",
        "\n",
        "print(\"📂 모든 압축 파일이 Google Drive에 저장되었습니다.\")"
      ],
      "metadata": {
        "colab": {
          "base_uri": "https://localhost:8080/"
        },
        "id": "5mN0VTA2zJCi",
        "outputId": "4ee20375-cd7b-4c2d-ebfd-3bb7718471d6"
      },
      "execution_count": null,
      "outputs": [
        {
          "output_type": "stream",
          "name": "stderr",
          "text": [
            "\r  0%|          | 0/15 [00:00<?, ?it/s]"
          ]
        },
        {
          "output_type": "stream",
          "name": "stdout",
          "text": [
            "✅ /content/drive/MyDrive/final_project/김예지/data/tiling_zip/tiling_part3.zip 생성 완료!\n",
            "✅ /content/drive/MyDrive/final_project/김예지/data/tiling_zip/tiling_part4.zip 생성 완료!\n",
            "✅ /content/drive/MyDrive/final_project/김예지/data/tiling_zip/tiling_part2.zip 생성 완료!\n"
          ]
        },
        {
          "output_type": "stream",
          "name": "stderr",
          "text": [
            "\r  7%|▋         | 1/15 [13:06<3:03:35, 786.81s/it]"
          ]
        },
        {
          "output_type": "stream",
          "name": "stdout",
          "text": [
            "✅ /content/drive/MyDrive/final_project/김예지/data/tiling_zip/tiling_part1.zip 생성 완료!\n"
          ]
        },
        {
          "output_type": "stream",
          "name": "stderr",
          "text": [
            "\r 33%|███▎      | 5/15 [14:40<22:50, 137.03s/it]  "
          ]
        },
        {
          "output_type": "stream",
          "name": "stdout",
          "text": [
            "✅ /content/drive/MyDrive/final_project/김예지/data/tiling_zip/tiling_part5.zip 생성 완료!\n"
          ]
        },
        {
          "output_type": "stream",
          "name": "stderr",
          "text": [
            "\r 40%|████      | 6/15 [14:44<15:54, 106.01s/it]"
          ]
        },
        {
          "output_type": "stream",
          "name": "stdout",
          "text": [
            "✅ /content/drive/MyDrive/final_project/김예지/data/tiling_zip/tiling_part6.zip 생성 완료!\n"
          ]
        },
        {
          "output_type": "stream",
          "name": "stderr",
          "text": [
            "\r 47%|████▋     | 7/15 [14:50<10:49, 81.17s/it] "
          ]
        },
        {
          "output_type": "stream",
          "name": "stdout",
          "text": [
            "✅ /content/drive/MyDrive/final_project/김예지/data/tiling_zip/tiling_part7.zip 생성 완료!\n"
          ]
        },
        {
          "output_type": "stream",
          "name": "stderr",
          "text": [
            "\r 53%|█████▎    | 8/15 [14:52<07:01, 60.22s/it]"
          ]
        },
        {
          "output_type": "stream",
          "name": "stdout",
          "text": [
            "✅ /content/drive/MyDrive/final_project/김예지/data/tiling_zip/tiling_part8.zip 생성 완료!\n"
          ]
        },
        {
          "output_type": "stream",
          "name": "stderr",
          "text": [
            "\r 60%|██████    | 9/15 [16:23<06:52, 68.71s/it]"
          ]
        },
        {
          "output_type": "stream",
          "name": "stdout",
          "text": [
            "✅ /content/drive/MyDrive/final_project/김예지/data/tiling_zip/tiling_part9.zip 생성 완료!\n"
          ]
        },
        {
          "output_type": "stream",
          "name": "stderr",
          "text": [
            "\r 67%|██████▋   | 10/15 [16:26<04:11, 50.27s/it]"
          ]
        },
        {
          "output_type": "stream",
          "name": "stdout",
          "text": [
            "✅ /content/drive/MyDrive/final_project/김예지/data/tiling_zip/tiling_part10.zip 생성 완료!\n",
            "✅ /content/drive/MyDrive/final_project/김예지/data/tiling_zip/tiling_part12.zip 생성 완료!\n"
          ]
        },
        {
          "output_type": "stream",
          "name": "stderr",
          "text": [
            "\r 73%|███████▎  | 11/15 [16:28<02:26, 36.51s/it]"
          ]
        },
        {
          "output_type": "stream",
          "name": "stdout",
          "text": [
            "✅ /content/drive/MyDrive/final_project/김예지/data/tiling_zip/tiling_part11.zip 생성 완료!\n"
          ]
        },
        {
          "output_type": "stream",
          "name": "stderr",
          "text": [
            "\r 87%|████████▋ | 13/15 [17:49<01:16, 38.23s/it]"
          ]
        },
        {
          "output_type": "stream",
          "name": "stdout",
          "text": [
            "✅ /content/drive/MyDrive/final_project/김예지/data/tiling_zip/tiling_part13.zip 생성 완료!\n"
          ]
        },
        {
          "output_type": "stream",
          "name": "stderr",
          "text": [
            "\r 93%|█████████▎| 14/15 [17:54<00:30, 30.16s/it]"
          ]
        },
        {
          "output_type": "stream",
          "name": "stdout",
          "text": [
            "✅ /content/drive/MyDrive/final_project/김예지/data/tiling_zip/tiling_part14.zip 생성 완료!\n"
          ]
        },
        {
          "output_type": "stream",
          "name": "stderr",
          "text": [
            "100%|██████████| 15/15 [17:56<00:00, 71.79s/it]"
          ]
        },
        {
          "output_type": "stream",
          "name": "stdout",
          "text": [
            "✅ /content/drive/MyDrive/final_project/김예지/data/tiling_zip/tiling_part15.zip 생성 완료!\n",
            "📂 모든 압축 파일이 Google Drive에 저장되었습니다.\n"
          ]
        },
        {
          "output_type": "stream",
          "name": "stderr",
          "text": [
            "\n"
          ]
        }
      ]
    },
    {
      "cell_type": "markdown",
      "metadata": {
        "id": "rVxtTufM5emE"
      },
      "source": [
        "# Real-ESRGAN"
      ]
    },
    {
      "cell_type": "markdown",
      "metadata": {
        "id": "4gG9UEgjkFMW"
      },
      "source": [
        "## git clone"
      ]
    },
    {
      "cell_type": "code",
      "execution_count": null,
      "metadata": {
        "colab": {
          "base_uri": "https://localhost:8080/"
        },
        "id": "aXvlqKhIjrkr",
        "outputId": "f576de2e-75b4-4d7d-fc61-b60a2db67698"
      },
      "outputs": [
        {
          "output_type": "stream",
          "name": "stdout",
          "text": [
            "fatal: destination path 'Real-ESRGAN' already exists and is not an empty directory.\n"
          ]
        }
      ],
      "source": [
        "!git clone https://github.com/xinntao/Real-ESRGAN.git"
      ]
    },
    {
      "cell_type": "code",
      "execution_count": null,
      "metadata": {
        "colab": {
          "base_uri": "https://localhost:8080/"
        },
        "id": "owgsRw9tnrJO",
        "outputId": "fedc6ebb-e261-4e77-afd6-d1ece7b57dab"
      },
      "outputs": [
        {
          "output_type": "stream",
          "name": "stdout",
          "text": [
            "/content/drive/MyDrive/fin_project/Real-ESRGAN\n"
          ]
        }
      ],
      "source": [
        "%cd Real-ESRGAN"
      ]
    },
    {
      "cell_type": "code",
      "execution_count": null,
      "metadata": {
        "colab": {
          "base_uri": "https://localhost:8080/"
        },
        "id": "AAo1Ut63q9Tg",
        "outputId": "229c5f95-e840-4f97-b458-655b585022da"
      },
      "outputs": [
        {
          "output_type": "stream",
          "name": "stdout",
          "text": [
            "Collecting basicsr>=1.4.2 (from -r requirements.txt (line 1))\n",
            "  Downloading basicsr-1.4.2.tar.gz (172 kB)\n",
            "\u001b[?25l     \u001b[90m━━━━━━━━━━━━━━━━━━━━━━━━━━━━━━━━━━━━━━━━\u001b[0m \u001b[32m0.0/172.5 kB\u001b[0m \u001b[31m?\u001b[0m eta \u001b[36m-:--:--\u001b[0m\r\u001b[2K     \u001b[90m━━━━━━━━━━━━━━━━━━━━━━━━━━━━━━━━━━━━━━━━\u001b[0m \u001b[32m172.5/172.5 kB\u001b[0m \u001b[31m5.9 MB/s\u001b[0m eta \u001b[36m0:00:00\u001b[0m\n",
            "\u001b[?25h  Preparing metadata (setup.py) ... \u001b[?25l\u001b[?25hdone\n",
            "Collecting facexlib>=0.2.5 (from -r requirements.txt (line 2))\n",
            "  Downloading facexlib-0.3.0-py3-none-any.whl.metadata (4.6 kB)\n",
            "Collecting gfpgan>=1.3.5 (from -r requirements.txt (line 3))\n",
            "  Downloading gfpgan-1.3.8-py3-none-any.whl.metadata (12 kB)\n",
            "Requirement already satisfied: numpy in /usr/local/lib/python3.11/dist-packages (from -r requirements.txt (line 4)) (1.26.4)\n",
            "Requirement already satisfied: opencv-python in /usr/local/lib/python3.11/dist-packages (from -r requirements.txt (line 5)) (4.11.0.86)\n",
            "Requirement already satisfied: Pillow in /usr/local/lib/python3.11/dist-packages (from -r requirements.txt (line 6)) (11.1.0)\n",
            "Requirement already satisfied: torch>=1.7 in /usr/local/lib/python3.11/dist-packages (from -r requirements.txt (line 7)) (2.5.1+cu124)\n",
            "Requirement already satisfied: torchvision in /usr/local/lib/python3.11/dist-packages (from -r requirements.txt (line 8)) (0.20.1+cu124)\n",
            "Requirement already satisfied: tqdm in /usr/local/lib/python3.11/dist-packages (from -r requirements.txt (line 9)) (4.67.1)\n",
            "Collecting addict (from basicsr>=1.4.2->-r requirements.txt (line 1))\n",
            "  Downloading addict-2.4.0-py3-none-any.whl.metadata (1.0 kB)\n",
            "Requirement already satisfied: future in /usr/local/lib/python3.11/dist-packages (from basicsr>=1.4.2->-r requirements.txt (line 1)) (1.0.0)\n",
            "Collecting lmdb (from basicsr>=1.4.2->-r requirements.txt (line 1))\n",
            "  Downloading lmdb-1.6.2-cp311-cp311-manylinux_2_17_x86_64.manylinux2014_x86_64.whl.metadata (1.1 kB)\n",
            "Requirement already satisfied: pyyaml in /usr/local/lib/python3.11/dist-packages (from basicsr>=1.4.2->-r requirements.txt (line 1)) (6.0.2)\n",
            "Requirement already satisfied: requests in /usr/local/lib/python3.11/dist-packages (from basicsr>=1.4.2->-r requirements.txt (line 1)) (2.32.3)\n",
            "Requirement already satisfied: scikit-image in /usr/local/lib/python3.11/dist-packages (from basicsr>=1.4.2->-r requirements.txt (line 1)) (0.25.1)\n",
            "Requirement already satisfied: scipy in /usr/local/lib/python3.11/dist-packages (from basicsr>=1.4.2->-r requirements.txt (line 1)) (1.13.1)\n",
            "Collecting tb-nightly (from basicsr>=1.4.2->-r requirements.txt (line 1))\n",
            "  Downloading tb_nightly-2.19.0a20250209-py3-none-any.whl.metadata (1.8 kB)\n",
            "Collecting yapf (from basicsr>=1.4.2->-r requirements.txt (line 1))\n",
            "  Downloading yapf-0.43.0-py3-none-any.whl.metadata (46 kB)\n",
            "\u001b[2K     \u001b[90m━━━━━━━━━━━━━━━━━━━━━━━━━━━━━━━━━━━━━━━━\u001b[0m \u001b[32m46.8/46.8 kB\u001b[0m \u001b[31m4.8 MB/s\u001b[0m eta \u001b[36m0:00:00\u001b[0m\n",
            "\u001b[?25hCollecting filterpy (from facexlib>=0.2.5->-r requirements.txt (line 2))\n",
            "  Downloading filterpy-1.4.5.zip (177 kB)\n",
            "\u001b[2K     \u001b[90m━━━━━━━━━━━━━━━━━━━━━━━━━━━━━━━━━━━━━━━━\u001b[0m \u001b[32m178.0/178.0 kB\u001b[0m \u001b[31m17.2 MB/s\u001b[0m eta \u001b[36m0:00:00\u001b[0m\n",
            "\u001b[?25h  Preparing metadata (setup.py) ... \u001b[?25l\u001b[?25hdone\n",
            "Requirement already satisfied: numba in /usr/local/lib/python3.11/dist-packages (from facexlib>=0.2.5->-r requirements.txt (line 2)) (0.61.0)\n",
            "Requirement already satisfied: filelock in /usr/local/lib/python3.11/dist-packages (from torch>=1.7->-r requirements.txt (line 7)) (3.17.0)\n",
            "Requirement already satisfied: typing-extensions>=4.8.0 in /usr/local/lib/python3.11/dist-packages (from torch>=1.7->-r requirements.txt (line 7)) (4.12.2)\n",
            "Requirement already satisfied: networkx in /usr/local/lib/python3.11/dist-packages (from torch>=1.7->-r requirements.txt (line 7)) (3.4.2)\n",
            "Requirement already satisfied: jinja2 in /usr/local/lib/python3.11/dist-packages (from torch>=1.7->-r requirements.txt (line 7)) (3.1.5)\n",
            "Requirement already satisfied: fsspec in /usr/local/lib/python3.11/dist-packages (from torch>=1.7->-r requirements.txt (line 7)) (2024.10.0)\n",
            "Collecting nvidia-cuda-nvrtc-cu12==12.4.127 (from torch>=1.7->-r requirements.txt (line 7))\n",
            "  Using cached nvidia_cuda_nvrtc_cu12-12.4.127-py3-none-manylinux2014_x86_64.whl.metadata (1.5 kB)\n",
            "Collecting nvidia-cuda-runtime-cu12==12.4.127 (from torch>=1.7->-r requirements.txt (line 7))\n",
            "  Using cached nvidia_cuda_runtime_cu12-12.4.127-py3-none-manylinux2014_x86_64.whl.metadata (1.5 kB)\n",
            "Collecting nvidia-cuda-cupti-cu12==12.4.127 (from torch>=1.7->-r requirements.txt (line 7))\n",
            "  Using cached nvidia_cuda_cupti_cu12-12.4.127-py3-none-manylinux2014_x86_64.whl.metadata (1.6 kB)\n",
            "Collecting nvidia-cudnn-cu12==9.1.0.70 (from torch>=1.7->-r requirements.txt (line 7))\n",
            "  Using cached nvidia_cudnn_cu12-9.1.0.70-py3-none-manylinux2014_x86_64.whl.metadata (1.6 kB)\n",
            "Collecting nvidia-cublas-cu12==12.4.5.8 (from torch>=1.7->-r requirements.txt (line 7))\n",
            "  Using cached nvidia_cublas_cu12-12.4.5.8-py3-none-manylinux2014_x86_64.whl.metadata (1.5 kB)\n",
            "Collecting nvidia-cufft-cu12==11.2.1.3 (from torch>=1.7->-r requirements.txt (line 7))\n",
            "  Using cached nvidia_cufft_cu12-11.2.1.3-py3-none-manylinux2014_x86_64.whl.metadata (1.5 kB)\n",
            "Collecting nvidia-curand-cu12==10.3.5.147 (from torch>=1.7->-r requirements.txt (line 7))\n",
            "  Using cached nvidia_curand_cu12-10.3.5.147-py3-none-manylinux2014_x86_64.whl.metadata (1.5 kB)\n",
            "Collecting nvidia-cusolver-cu12==11.6.1.9 (from torch>=1.7->-r requirements.txt (line 7))\n",
            "  Using cached nvidia_cusolver_cu12-11.6.1.9-py3-none-manylinux2014_x86_64.whl.metadata (1.6 kB)\n",
            "Collecting nvidia-cusparse-cu12==12.3.1.170 (from torch>=1.7->-r requirements.txt (line 7))\n",
            "  Using cached nvidia_cusparse_cu12-12.3.1.170-py3-none-manylinux2014_x86_64.whl.metadata (1.6 kB)\n",
            "Requirement already satisfied: nvidia-nccl-cu12==2.21.5 in /usr/local/lib/python3.11/dist-packages (from torch>=1.7->-r requirements.txt (line 7)) (2.21.5)\n",
            "Requirement already satisfied: nvidia-nvtx-cu12==12.4.127 in /usr/local/lib/python3.11/dist-packages (from torch>=1.7->-r requirements.txt (line 7)) (12.4.127)\n",
            "Collecting nvidia-nvjitlink-cu12==12.4.127 (from torch>=1.7->-r requirements.txt (line 7))\n",
            "  Using cached nvidia_nvjitlink_cu12-12.4.127-py3-none-manylinux2014_x86_64.whl.metadata (1.5 kB)\n",
            "Requirement already satisfied: triton==3.1.0 in /usr/local/lib/python3.11/dist-packages (from torch>=1.7->-r requirements.txt (line 7)) (3.1.0)\n",
            "Requirement already satisfied: sympy==1.13.1 in /usr/local/lib/python3.11/dist-packages (from torch>=1.7->-r requirements.txt (line 7)) (1.13.1)\n",
            "Requirement already satisfied: mpmath<1.4,>=1.1.0 in /usr/local/lib/python3.11/dist-packages (from sympy==1.13.1->torch>=1.7->-r requirements.txt (line 7)) (1.3.0)\n",
            "Requirement already satisfied: matplotlib in /usr/local/lib/python3.11/dist-packages (from filterpy->facexlib>=0.2.5->-r requirements.txt (line 2)) (3.10.0)\n",
            "Requirement already satisfied: MarkupSafe>=2.0 in /usr/local/lib/python3.11/dist-packages (from jinja2->torch>=1.7->-r requirements.txt (line 7)) (3.0.2)\n",
            "Requirement already satisfied: llvmlite<0.45,>=0.44.0dev0 in /usr/local/lib/python3.11/dist-packages (from numba->facexlib>=0.2.5->-r requirements.txt (line 2)) (0.44.0)\n",
            "Requirement already satisfied: charset-normalizer<4,>=2 in /usr/local/lib/python3.11/dist-packages (from requests->basicsr>=1.4.2->-r requirements.txt (line 1)) (3.4.1)\n",
            "Requirement already satisfied: idna<4,>=2.5 in /usr/local/lib/python3.11/dist-packages (from requests->basicsr>=1.4.2->-r requirements.txt (line 1)) (3.10)\n",
            "Requirement already satisfied: urllib3<3,>=1.21.1 in /usr/local/lib/python3.11/dist-packages (from requests->basicsr>=1.4.2->-r requirements.txt (line 1)) (2.3.0)\n",
            "Requirement already satisfied: certifi>=2017.4.17 in /usr/local/lib/python3.11/dist-packages (from requests->basicsr>=1.4.2->-r requirements.txt (line 1)) (2025.1.31)\n",
            "Requirement already satisfied: imageio!=2.35.0,>=2.33 in /usr/local/lib/python3.11/dist-packages (from scikit-image->basicsr>=1.4.2->-r requirements.txt (line 1)) (2.37.0)\n",
            "Requirement already satisfied: tifffile>=2022.8.12 in /usr/local/lib/python3.11/dist-packages (from scikit-image->basicsr>=1.4.2->-r requirements.txt (line 1)) (2025.1.10)\n",
            "Requirement already satisfied: packaging>=21 in /usr/local/lib/python3.11/dist-packages (from scikit-image->basicsr>=1.4.2->-r requirements.txt (line 1)) (24.2)\n",
            "Requirement already satisfied: lazy-loader>=0.4 in /usr/local/lib/python3.11/dist-packages (from scikit-image->basicsr>=1.4.2->-r requirements.txt (line 1)) (0.4)\n",
            "Requirement already satisfied: absl-py>=0.4 in /usr/local/lib/python3.11/dist-packages (from tb-nightly->basicsr>=1.4.2->-r requirements.txt (line 1)) (1.4.0)\n",
            "Requirement already satisfied: grpcio>=1.48.2 in /usr/local/lib/python3.11/dist-packages (from tb-nightly->basicsr>=1.4.2->-r requirements.txt (line 1)) (1.70.0)\n",
            "Requirement already satisfied: markdown>=2.6.8 in /usr/local/lib/python3.11/dist-packages (from tb-nightly->basicsr>=1.4.2->-r requirements.txt (line 1)) (3.7)\n",
            "Requirement already satisfied: protobuf!=4.24.0,>=3.19.6 in /usr/local/lib/python3.11/dist-packages (from tb-nightly->basicsr>=1.4.2->-r requirements.txt (line 1)) (4.25.6)\n",
            "Requirement already satisfied: setuptools>=41.0.0 in /usr/local/lib/python3.11/dist-packages (from tb-nightly->basicsr>=1.4.2->-r requirements.txt (line 1)) (75.1.0)\n",
            "Requirement already satisfied: six>1.9 in /usr/local/lib/python3.11/dist-packages (from tb-nightly->basicsr>=1.4.2->-r requirements.txt (line 1)) (1.17.0)\n",
            "Requirement already satisfied: tensorboard-data-server<0.8.0,>=0.7.0 in /usr/local/lib/python3.11/dist-packages (from tb-nightly->basicsr>=1.4.2->-r requirements.txt (line 1)) (0.7.2)\n",
            "Requirement already satisfied: werkzeug>=1.0.1 in /usr/local/lib/python3.11/dist-packages (from tb-nightly->basicsr>=1.4.2->-r requirements.txt (line 1)) (3.1.3)\n",
            "Requirement already satisfied: platformdirs>=3.5.1 in /usr/local/lib/python3.11/dist-packages (from yapf->basicsr>=1.4.2->-r requirements.txt (line 1)) (4.3.6)\n",
            "Requirement already satisfied: contourpy>=1.0.1 in /usr/local/lib/python3.11/dist-packages (from matplotlib->filterpy->facexlib>=0.2.5->-r requirements.txt (line 2)) (1.3.1)\n",
            "Requirement already satisfied: cycler>=0.10 in /usr/local/lib/python3.11/dist-packages (from matplotlib->filterpy->facexlib>=0.2.5->-r requirements.txt (line 2)) (0.12.1)\n",
            "Requirement already satisfied: fonttools>=4.22.0 in /usr/local/lib/python3.11/dist-packages (from matplotlib->filterpy->facexlib>=0.2.5->-r requirements.txt (line 2)) (4.55.8)\n",
            "Requirement already satisfied: kiwisolver>=1.3.1 in /usr/local/lib/python3.11/dist-packages (from matplotlib->filterpy->facexlib>=0.2.5->-r requirements.txt (line 2)) (1.4.8)\n",
            "Requirement already satisfied: pyparsing>=2.3.1 in /usr/local/lib/python3.11/dist-packages (from matplotlib->filterpy->facexlib>=0.2.5->-r requirements.txt (line 2)) (3.2.1)\n",
            "Requirement already satisfied: python-dateutil>=2.7 in /usr/local/lib/python3.11/dist-packages (from matplotlib->filterpy->facexlib>=0.2.5->-r requirements.txt (line 2)) (2.8.2)\n",
            "Downloading facexlib-0.3.0-py3-none-any.whl (59 kB)\n",
            "\u001b[2K   \u001b[90m━━━━━━━━━━━━━━━━━━━━━━━━━━━━━━━━━━━━━━━━\u001b[0m \u001b[32m59.6/59.6 kB\u001b[0m \u001b[31m5.6 MB/s\u001b[0m eta \u001b[36m0:00:00\u001b[0m\n",
            "\u001b[?25hDownloading gfpgan-1.3.8-py3-none-any.whl (52 kB)\n",
            "\u001b[2K   \u001b[90m━━━━━━━━━━━━━━━━━━━━━━━━━━━━━━━━━━━━━━━━\u001b[0m \u001b[32m52.2/52.2 kB\u001b[0m \u001b[31m5.2 MB/s\u001b[0m eta \u001b[36m0:00:00\u001b[0m\n",
            "\u001b[?25hUsing cached nvidia_cublas_cu12-12.4.5.8-py3-none-manylinux2014_x86_64.whl (363.4 MB)\n",
            "Using cached nvidia_cuda_cupti_cu12-12.4.127-py3-none-manylinux2014_x86_64.whl (13.8 MB)\n",
            "Using cached nvidia_cuda_nvrtc_cu12-12.4.127-py3-none-manylinux2014_x86_64.whl (24.6 MB)\n",
            "Using cached nvidia_cuda_runtime_cu12-12.4.127-py3-none-manylinux2014_x86_64.whl (883 kB)\n",
            "Using cached nvidia_cudnn_cu12-9.1.0.70-py3-none-manylinux2014_x86_64.whl (664.8 MB)\n",
            "Using cached nvidia_cufft_cu12-11.2.1.3-py3-none-manylinux2014_x86_64.whl (211.5 MB)\n",
            "Using cached nvidia_curand_cu12-10.3.5.147-py3-none-manylinux2014_x86_64.whl (56.3 MB)\n",
            "Using cached nvidia_cusolver_cu12-11.6.1.9-py3-none-manylinux2014_x86_64.whl (127.9 MB)\n",
            "Using cached nvidia_cusparse_cu12-12.3.1.170-py3-none-manylinux2014_x86_64.whl (207.5 MB)\n",
            "Using cached nvidia_nvjitlink_cu12-12.4.127-py3-none-manylinux2014_x86_64.whl (21.1 MB)\n",
            "Downloading addict-2.4.0-py3-none-any.whl (3.8 kB)\n",
            "Downloading lmdb-1.6.2-cp311-cp311-manylinux_2_17_x86_64.manylinux2014_x86_64.whl (297 kB)\n",
            "\u001b[2K   \u001b[90m━━━━━━━━━━━━━━━━━━━━━━━━━━━━━━━━━━━━━━━━\u001b[0m \u001b[32m297.8/297.8 kB\u001b[0m \u001b[31m27.4 MB/s\u001b[0m eta \u001b[36m0:00:00\u001b[0m\n",
            "\u001b[?25hDownloading tb_nightly-2.19.0a20250209-py3-none-any.whl (5.5 MB)\n",
            "\u001b[2K   \u001b[90m━━━━━━━━━━━━━━━━━━━━━━━━━━━━━━━━━━━━━━━━\u001b[0m \u001b[32m5.5/5.5 MB\u001b[0m \u001b[31m88.2 MB/s\u001b[0m eta \u001b[36m0:00:00\u001b[0m\n",
            "\u001b[?25hDownloading yapf-0.43.0-py3-none-any.whl (256 kB)\n",
            "\u001b[2K   \u001b[90m━━━━━━━━━━━━━━━━━━━━━━━━━━━━━━━━━━━━━━━━\u001b[0m \u001b[32m256.2/256.2 kB\u001b[0m \u001b[31m24.2 MB/s\u001b[0m eta \u001b[36m0:00:00\u001b[0m\n",
            "\u001b[?25hBuilding wheels for collected packages: basicsr, filterpy\n",
            "  Building wheel for basicsr (setup.py) ... \u001b[?25l\u001b[?25hdone\n",
            "  Created wheel for basicsr: filename=basicsr-1.4.2-py3-none-any.whl size=214817 sha256=f28e9584d252fe666318b94e559db1e3be93635da9738dab32e7ecc3c665559e\n",
            "  Stored in directory: /root/.cache/pip/wheels/6d/a4/b3/9f888ba88efcae6dd4bbce69832363de9c4051142674f779fa\n",
            "  Building wheel for filterpy (setup.py) ... \u001b[?25l\u001b[?25hdone\n",
            "  Created wheel for filterpy: filename=filterpy-1.4.5-py3-none-any.whl size=110458 sha256=a0492c2d9a1e811801355af1bf233f163cc4e6e61bdd52a33475a3335b6d06ad\n",
            "  Stored in directory: /root/.cache/pip/wheels/12/dc/3c/e12983eac132d00f82a20c6cbe7b42ce6e96190ef8fa2d15e1\n",
            "Successfully built basicsr filterpy\n",
            "Installing collected packages: lmdb, addict, yapf, nvidia-nvjitlink-cu12, nvidia-curand-cu12, nvidia-cufft-cu12, nvidia-cuda-runtime-cu12, nvidia-cuda-nvrtc-cu12, nvidia-cuda-cupti-cu12, nvidia-cublas-cu12, tb-nightly, nvidia-cusparse-cu12, nvidia-cudnn-cu12, nvidia-cusolver-cu12, filterpy, facexlib, basicsr, gfpgan\n",
            "  Attempting uninstall: nvidia-nvjitlink-cu12\n",
            "    Found existing installation: nvidia-nvjitlink-cu12 12.5.82\n",
            "    Uninstalling nvidia-nvjitlink-cu12-12.5.82:\n",
            "      Successfully uninstalled nvidia-nvjitlink-cu12-12.5.82\n",
            "  Attempting uninstall: nvidia-curand-cu12\n",
            "    Found existing installation: nvidia-curand-cu12 10.3.6.82\n",
            "    Uninstalling nvidia-curand-cu12-10.3.6.82:\n",
            "      Successfully uninstalled nvidia-curand-cu12-10.3.6.82\n",
            "  Attempting uninstall: nvidia-cufft-cu12\n",
            "    Found existing installation: nvidia-cufft-cu12 11.2.3.61\n",
            "    Uninstalling nvidia-cufft-cu12-11.2.3.61:\n",
            "      Successfully uninstalled nvidia-cufft-cu12-11.2.3.61\n",
            "  Attempting uninstall: nvidia-cuda-runtime-cu12\n",
            "    Found existing installation: nvidia-cuda-runtime-cu12 12.5.82\n",
            "    Uninstalling nvidia-cuda-runtime-cu12-12.5.82:\n",
            "      Successfully uninstalled nvidia-cuda-runtime-cu12-12.5.82\n",
            "  Attempting uninstall: nvidia-cuda-nvrtc-cu12\n",
            "    Found existing installation: nvidia-cuda-nvrtc-cu12 12.5.82\n",
            "    Uninstalling nvidia-cuda-nvrtc-cu12-12.5.82:\n",
            "      Successfully uninstalled nvidia-cuda-nvrtc-cu12-12.5.82\n",
            "  Attempting uninstall: nvidia-cuda-cupti-cu12\n",
            "    Found existing installation: nvidia-cuda-cupti-cu12 12.5.82\n",
            "    Uninstalling nvidia-cuda-cupti-cu12-12.5.82:\n",
            "      Successfully uninstalled nvidia-cuda-cupti-cu12-12.5.82\n",
            "  Attempting uninstall: nvidia-cublas-cu12\n",
            "    Found existing installation: nvidia-cublas-cu12 12.5.3.2\n",
            "    Uninstalling nvidia-cublas-cu12-12.5.3.2:\n",
            "      Successfully uninstalled nvidia-cublas-cu12-12.5.3.2\n",
            "  Attempting uninstall: nvidia-cusparse-cu12\n",
            "    Found existing installation: nvidia-cusparse-cu12 12.5.1.3\n",
            "    Uninstalling nvidia-cusparse-cu12-12.5.1.3:\n",
            "      Successfully uninstalled nvidia-cusparse-cu12-12.5.1.3\n",
            "  Attempting uninstall: nvidia-cudnn-cu12\n",
            "    Found existing installation: nvidia-cudnn-cu12 9.3.0.75\n",
            "    Uninstalling nvidia-cudnn-cu12-9.3.0.75:\n",
            "      Successfully uninstalled nvidia-cudnn-cu12-9.3.0.75\n",
            "  Attempting uninstall: nvidia-cusolver-cu12\n",
            "    Found existing installation: nvidia-cusolver-cu12 11.6.3.83\n",
            "    Uninstalling nvidia-cusolver-cu12-11.6.3.83:\n",
            "      Successfully uninstalled nvidia-cusolver-cu12-11.6.3.83\n",
            "Successfully installed addict-2.4.0 basicsr-1.4.2 facexlib-0.3.0 filterpy-1.4.5 gfpgan-1.3.8 lmdb-1.6.2 nvidia-cublas-cu12-12.4.5.8 nvidia-cuda-cupti-cu12-12.4.127 nvidia-cuda-nvrtc-cu12-12.4.127 nvidia-cuda-runtime-cu12-12.4.127 nvidia-cudnn-cu12-9.1.0.70 nvidia-cufft-cu12-11.2.1.3 nvidia-curand-cu12-10.3.5.147 nvidia-cusolver-cu12-11.6.1.9 nvidia-cusparse-cu12-12.3.1.170 nvidia-nvjitlink-cu12-12.4.127 tb-nightly-2.19.0a20250209 yapf-0.43.0\n",
            "Collecting torchvision==0.16.2\n",
            "  Downloading torchvision-0.16.2-cp311-cp311-manylinux1_x86_64.whl.metadata (6.6 kB)\n",
            "Requirement already satisfied: numpy in /usr/local/lib/python3.11/dist-packages (from torchvision==0.16.2) (1.26.4)\n",
            "Requirement already satisfied: requests in /usr/local/lib/python3.11/dist-packages (from torchvision==0.16.2) (2.32.3)\n",
            "Collecting torch==2.1.2 (from torchvision==0.16.2)\n",
            "  Downloading torch-2.1.2-cp311-cp311-manylinux1_x86_64.whl.metadata (25 kB)\n",
            "Requirement already satisfied: pillow!=8.3.*,>=5.3.0 in /usr/local/lib/python3.11/dist-packages (from torchvision==0.16.2) (11.1.0)\n",
            "Requirement already satisfied: filelock in /usr/local/lib/python3.11/dist-packages (from torch==2.1.2->torchvision==0.16.2) (3.17.0)\n",
            "Requirement already satisfied: typing-extensions in /usr/local/lib/python3.11/dist-packages (from torch==2.1.2->torchvision==0.16.2) (4.12.2)\n",
            "Requirement already satisfied: sympy in /usr/local/lib/python3.11/dist-packages (from torch==2.1.2->torchvision==0.16.2) (1.13.1)\n",
            "Requirement already satisfied: networkx in /usr/local/lib/python3.11/dist-packages (from torch==2.1.2->torchvision==0.16.2) (3.4.2)\n",
            "Requirement already satisfied: jinja2 in /usr/local/lib/python3.11/dist-packages (from torch==2.1.2->torchvision==0.16.2) (3.1.5)\n",
            "Requirement already satisfied: fsspec in /usr/local/lib/python3.11/dist-packages (from torch==2.1.2->torchvision==0.16.2) (2024.10.0)\n",
            "Collecting nvidia-cuda-nvrtc-cu12==12.1.105 (from torch==2.1.2->torchvision==0.16.2)\n",
            "  Downloading nvidia_cuda_nvrtc_cu12-12.1.105-py3-none-manylinux1_x86_64.whl.metadata (1.5 kB)\n",
            "Collecting nvidia-cuda-runtime-cu12==12.1.105 (from torch==2.1.2->torchvision==0.16.2)\n",
            "  Downloading nvidia_cuda_runtime_cu12-12.1.105-py3-none-manylinux1_x86_64.whl.metadata (1.5 kB)\n",
            "Collecting nvidia-cuda-cupti-cu12==12.1.105 (from torch==2.1.2->torchvision==0.16.2)\n",
            "  Downloading nvidia_cuda_cupti_cu12-12.1.105-py3-none-manylinux1_x86_64.whl.metadata (1.6 kB)\n",
            "Collecting nvidia-cudnn-cu12==8.9.2.26 (from torch==2.1.2->torchvision==0.16.2)\n",
            "  Downloading nvidia_cudnn_cu12-8.9.2.26-py3-none-manylinux1_x86_64.whl.metadata (1.6 kB)\n",
            "Collecting nvidia-cublas-cu12==12.1.3.1 (from torch==2.1.2->torchvision==0.16.2)\n",
            "  Downloading nvidia_cublas_cu12-12.1.3.1-py3-none-manylinux1_x86_64.whl.metadata (1.5 kB)\n",
            "Collecting nvidia-cufft-cu12==11.0.2.54 (from torch==2.1.2->torchvision==0.16.2)\n",
            "  Downloading nvidia_cufft_cu12-11.0.2.54-py3-none-manylinux1_x86_64.whl.metadata (1.5 kB)\n",
            "Collecting nvidia-curand-cu12==10.3.2.106 (from torch==2.1.2->torchvision==0.16.2)\n",
            "  Downloading nvidia_curand_cu12-10.3.2.106-py3-none-manylinux1_x86_64.whl.metadata (1.5 kB)\n",
            "Collecting nvidia-cusolver-cu12==11.4.5.107 (from torch==2.1.2->torchvision==0.16.2)\n",
            "  Downloading nvidia_cusolver_cu12-11.4.5.107-py3-none-manylinux1_x86_64.whl.metadata (1.6 kB)\n",
            "Collecting nvidia-cusparse-cu12==12.1.0.106 (from torch==2.1.2->torchvision==0.16.2)\n",
            "  Downloading nvidia_cusparse_cu12-12.1.0.106-py3-none-manylinux1_x86_64.whl.metadata (1.6 kB)\n",
            "Collecting nvidia-nccl-cu12==2.18.1 (from torch==2.1.2->torchvision==0.16.2)\n",
            "  Downloading nvidia_nccl_cu12-2.18.1-py3-none-manylinux1_x86_64.whl.metadata (1.8 kB)\n",
            "Collecting nvidia-nvtx-cu12==12.1.105 (from torch==2.1.2->torchvision==0.16.2)\n",
            "  Downloading nvidia_nvtx_cu12-12.1.105-py3-none-manylinux1_x86_64.whl.metadata (1.7 kB)\n",
            "Collecting triton==2.1.0 (from torch==2.1.2->torchvision==0.16.2)\n",
            "  Downloading triton-2.1.0-0-cp311-cp311-manylinux2014_x86_64.manylinux_2_17_x86_64.whl.metadata (1.3 kB)\n",
            "Requirement already satisfied: nvidia-nvjitlink-cu12 in /usr/local/lib/python3.11/dist-packages (from nvidia-cusolver-cu12==11.4.5.107->torch==2.1.2->torchvision==0.16.2) (12.4.127)\n",
            "Requirement already satisfied: charset-normalizer<4,>=2 in /usr/local/lib/python3.11/dist-packages (from requests->torchvision==0.16.2) (3.4.1)\n",
            "Requirement already satisfied: idna<4,>=2.5 in /usr/local/lib/python3.11/dist-packages (from requests->torchvision==0.16.2) (3.10)\n",
            "Requirement already satisfied: urllib3<3,>=1.21.1 in /usr/local/lib/python3.11/dist-packages (from requests->torchvision==0.16.2) (2.3.0)\n",
            "Requirement already satisfied: certifi>=2017.4.17 in /usr/local/lib/python3.11/dist-packages (from requests->torchvision==0.16.2) (2025.1.31)\n",
            "Requirement already satisfied: MarkupSafe>=2.0 in /usr/local/lib/python3.11/dist-packages (from jinja2->torch==2.1.2->torchvision==0.16.2) (3.0.2)\n",
            "Requirement already satisfied: mpmath<1.4,>=1.1.0 in /usr/local/lib/python3.11/dist-packages (from sympy->torch==2.1.2->torchvision==0.16.2) (1.3.0)\n",
            "Downloading torchvision-0.16.2-cp311-cp311-manylinux1_x86_64.whl (6.8 MB)\n",
            "\u001b[2K   \u001b[90m━━━━━━━━━━━━━━━━━━━━━━━━━━━━━━━━━━━━━━━━\u001b[0m \u001b[32m6.8/6.8 MB\u001b[0m \u001b[31m77.2 MB/s\u001b[0m eta \u001b[36m0:00:00\u001b[0m\n",
            "\u001b[?25hDownloading torch-2.1.2-cp311-cp311-manylinux1_x86_64.whl (670.2 MB)\n",
            "\u001b[2K   \u001b[90m━━━━━━━━━━━━━━━━━━━━━━━━━━━━━━━━━━━━━━━━\u001b[0m \u001b[32m670.2/670.2 MB\u001b[0m \u001b[31m2.7 MB/s\u001b[0m eta \u001b[36m0:00:00\u001b[0m\n",
            "\u001b[?25hDownloading nvidia_cublas_cu12-12.1.3.1-py3-none-manylinux1_x86_64.whl (410.6 MB)\n",
            "\u001b[2K   \u001b[90m━━━━━━━━━━━━━━━━━━━━━━━━━━━━━━━━━━━━━━━━\u001b[0m \u001b[32m410.6/410.6 MB\u001b[0m \u001b[31m3.9 MB/s\u001b[0m eta \u001b[36m0:00:00\u001b[0m\n",
            "\u001b[?25hDownloading nvidia_cuda_cupti_cu12-12.1.105-py3-none-manylinux1_x86_64.whl (14.1 MB)\n",
            "\u001b[2K   \u001b[90m━━━━━━━━━━━━━━━━━━━━━━━━━━━━━━━━━━━━━━━━\u001b[0m \u001b[32m14.1/14.1 MB\u001b[0m \u001b[31m74.2 MB/s\u001b[0m eta \u001b[36m0:00:00\u001b[0m\n",
            "\u001b[?25hDownloading nvidia_cuda_nvrtc_cu12-12.1.105-py3-none-manylinux1_x86_64.whl (23.7 MB)\n",
            "\u001b[2K   \u001b[90m━━━━━━━━━━━━━━━━━━━━━━━━━━━━━━━━━━━━━━━━\u001b[0m \u001b[32m23.7/23.7 MB\u001b[0m \u001b[31m62.8 MB/s\u001b[0m eta \u001b[36m0:00:00\u001b[0m\n",
            "\u001b[?25hDownloading nvidia_cuda_runtime_cu12-12.1.105-py3-none-manylinux1_x86_64.whl (823 kB)\n",
            "\u001b[2K   \u001b[90m━━━━━━━━━━━━━━━━━━━━━━━━━━━━━━━━━━━━━━━━\u001b[0m \u001b[32m823.6/823.6 kB\u001b[0m \u001b[31m46.1 MB/s\u001b[0m eta \u001b[36m0:00:00\u001b[0m\n",
            "\u001b[?25hDownloading nvidia_cudnn_cu12-8.9.2.26-py3-none-manylinux1_x86_64.whl (731.7 MB)\n",
            "\u001b[2K   \u001b[90m━━━━━━━━━━━━━━━━━━━━━━━━━━━━━━━━━━━━━━━━\u001b[0m \u001b[32m731.7/731.7 MB\u001b[0m \u001b[31m1.9 MB/s\u001b[0m eta \u001b[36m0:00:00\u001b[0m\n",
            "\u001b[?25hDownloading nvidia_cufft_cu12-11.0.2.54-py3-none-manylinux1_x86_64.whl (121.6 MB)\n",
            "\u001b[2K   \u001b[90m━━━━━━━━━━━━━━━━━━━━━━━━━━━━━━━━━━━━━━━━\u001b[0m \u001b[32m121.6/121.6 MB\u001b[0m \u001b[31m7.1 MB/s\u001b[0m eta \u001b[36m0:00:00\u001b[0m\n",
            "\u001b[?25hDownloading nvidia_curand_cu12-10.3.2.106-py3-none-manylinux1_x86_64.whl (56.5 MB)\n",
            "\u001b[2K   \u001b[90m━━━━━━━━━━━━━━━━━━━━━━━━━━━━━━━━━━━━━━━━\u001b[0m \u001b[32m56.5/56.5 MB\u001b[0m \u001b[31m13.1 MB/s\u001b[0m eta \u001b[36m0:00:00\u001b[0m\n",
            "\u001b[?25hDownloading nvidia_cusolver_cu12-11.4.5.107-py3-none-manylinux1_x86_64.whl (124.2 MB)\n",
            "\u001b[2K   \u001b[90m━━━━━━━━━━━━━━━━━━━━━━━━━━━━━━━━━━━━━━━━\u001b[0m \u001b[32m124.2/124.2 MB\u001b[0m \u001b[31m7.5 MB/s\u001b[0m eta \u001b[36m0:00:00\u001b[0m\n",
            "\u001b[?25hDownloading nvidia_cusparse_cu12-12.1.0.106-py3-none-manylinux1_x86_64.whl (196.0 MB)\n",
            "\u001b[2K   \u001b[90m━━━━━━━━━━━━━━━━━━━━━━━━━━━━━━━━━━━━━━━━\u001b[0m \u001b[32m196.0/196.0 MB\u001b[0m \u001b[31m5.9 MB/s\u001b[0m eta \u001b[36m0:00:00\u001b[0m\n",
            "\u001b[?25hDownloading nvidia_nccl_cu12-2.18.1-py3-none-manylinux1_x86_64.whl (209.8 MB)\n",
            "\u001b[2K   \u001b[90m━━━━━━━━━━━━━━━━━━━━━━━━━━━━━━━━━━━━━━━━\u001b[0m \u001b[32m209.8/209.8 MB\u001b[0m \u001b[31m5.7 MB/s\u001b[0m eta \u001b[36m0:00:00\u001b[0m\n",
            "\u001b[?25hDownloading nvidia_nvtx_cu12-12.1.105-py3-none-manylinux1_x86_64.whl (99 kB)\n",
            "\u001b[2K   \u001b[90m━━━━━━━━━━━━━━━━━━━━━━━━━━━━━━━━━━━━━━━━\u001b[0m \u001b[32m99.1/99.1 kB\u001b[0m \u001b[31m9.5 MB/s\u001b[0m eta \u001b[36m0:00:00\u001b[0m\n",
            "\u001b[?25hDownloading triton-2.1.0-0-cp311-cp311-manylinux2014_x86_64.manylinux_2_17_x86_64.whl (89.2 MB)\n",
            "\u001b[2K   \u001b[90m━━━━━━━━━━━━━━━━━━━━━━━━━━━━━━━━━━━━━━━━\u001b[0m \u001b[32m89.2/89.2 MB\u001b[0m \u001b[31m8.2 MB/s\u001b[0m eta \u001b[36m0:00:00\u001b[0m\n",
            "\u001b[?25hInstalling collected packages: triton, nvidia-nvtx-cu12, nvidia-nccl-cu12, nvidia-cusparse-cu12, nvidia-curand-cu12, nvidia-cufft-cu12, nvidia-cuda-runtime-cu12, nvidia-cuda-nvrtc-cu12, nvidia-cuda-cupti-cu12, nvidia-cublas-cu12, nvidia-cusolver-cu12, nvidia-cudnn-cu12, torch, torchvision\n",
            "  Attempting uninstall: triton\n",
            "    Found existing installation: triton 3.1.0\n",
            "    Uninstalling triton-3.1.0:\n",
            "      Successfully uninstalled triton-3.1.0\n",
            "  Attempting uninstall: nvidia-nvtx-cu12\n",
            "    Found existing installation: nvidia-nvtx-cu12 12.4.127\n",
            "    Uninstalling nvidia-nvtx-cu12-12.4.127:\n",
            "      Successfully uninstalled nvidia-nvtx-cu12-12.4.127\n",
            "  Attempting uninstall: nvidia-nccl-cu12\n",
            "    Found existing installation: nvidia-nccl-cu12 2.21.5\n",
            "    Uninstalling nvidia-nccl-cu12-2.21.5:\n",
            "      Successfully uninstalled nvidia-nccl-cu12-2.21.5\n",
            "  Attempting uninstall: nvidia-cusparse-cu12\n",
            "    Found existing installation: nvidia-cusparse-cu12 12.3.1.170\n",
            "    Uninstalling nvidia-cusparse-cu12-12.3.1.170:\n",
            "      Successfully uninstalled nvidia-cusparse-cu12-12.3.1.170\n",
            "  Attempting uninstall: nvidia-curand-cu12\n",
            "    Found existing installation: nvidia-curand-cu12 10.3.5.147\n",
            "    Uninstalling nvidia-curand-cu12-10.3.5.147:\n",
            "      Successfully uninstalled nvidia-curand-cu12-10.3.5.147\n",
            "  Attempting uninstall: nvidia-cufft-cu12\n",
            "    Found existing installation: nvidia-cufft-cu12 11.2.1.3\n",
            "    Uninstalling nvidia-cufft-cu12-11.2.1.3:\n",
            "      Successfully uninstalled nvidia-cufft-cu12-11.2.1.3\n",
            "  Attempting uninstall: nvidia-cuda-runtime-cu12\n",
            "    Found existing installation: nvidia-cuda-runtime-cu12 12.4.127\n",
            "    Uninstalling nvidia-cuda-runtime-cu12-12.4.127:\n",
            "      Successfully uninstalled nvidia-cuda-runtime-cu12-12.4.127\n",
            "  Attempting uninstall: nvidia-cuda-nvrtc-cu12\n",
            "    Found existing installation: nvidia-cuda-nvrtc-cu12 12.4.127\n",
            "    Uninstalling nvidia-cuda-nvrtc-cu12-12.4.127:\n",
            "      Successfully uninstalled nvidia-cuda-nvrtc-cu12-12.4.127\n",
            "  Attempting uninstall: nvidia-cuda-cupti-cu12\n",
            "    Found existing installation: nvidia-cuda-cupti-cu12 12.4.127\n",
            "    Uninstalling nvidia-cuda-cupti-cu12-12.4.127:\n",
            "      Successfully uninstalled nvidia-cuda-cupti-cu12-12.4.127\n",
            "  Attempting uninstall: nvidia-cublas-cu12\n",
            "    Found existing installation: nvidia-cublas-cu12 12.4.5.8\n",
            "    Uninstalling nvidia-cublas-cu12-12.4.5.8:\n",
            "      Successfully uninstalled nvidia-cublas-cu12-12.4.5.8\n",
            "  Attempting uninstall: nvidia-cusolver-cu12\n",
            "    Found existing installation: nvidia-cusolver-cu12 11.6.1.9\n",
            "    Uninstalling nvidia-cusolver-cu12-11.6.1.9:\n",
            "      Successfully uninstalled nvidia-cusolver-cu12-11.6.1.9\n",
            "  Attempting uninstall: nvidia-cudnn-cu12\n",
            "    Found existing installation: nvidia-cudnn-cu12 9.1.0.70\n",
            "    Uninstalling nvidia-cudnn-cu12-9.1.0.70:\n",
            "      Successfully uninstalled nvidia-cudnn-cu12-9.1.0.70\n",
            "  Attempting uninstall: torch\n",
            "    Found existing installation: torch 2.5.1+cu124\n",
            "    Uninstalling torch-2.5.1+cu124:\n",
            "      Successfully uninstalled torch-2.5.1+cu124\n",
            "  Attempting uninstall: torchvision\n",
            "    Found existing installation: torchvision 0.20.1+cu124\n",
            "    Uninstalling torchvision-0.20.1+cu124:\n",
            "      Successfully uninstalled torchvision-0.20.1+cu124\n",
            "\u001b[31mERROR: pip's dependency resolver does not currently take into account all the packages that are installed. This behaviour is the source of the following dependency conflicts.\n",
            "torchaudio 2.5.1+cu124 requires torch==2.5.1, but you have torch 2.1.2 which is incompatible.\u001b[0m\u001b[31m\n",
            "\u001b[0mSuccessfully installed nvidia-cublas-cu12-12.1.3.1 nvidia-cuda-cupti-cu12-12.1.105 nvidia-cuda-nvrtc-cu12-12.1.105 nvidia-cuda-runtime-cu12-12.1.105 nvidia-cudnn-cu12-8.9.2.26 nvidia-cufft-cu12-11.0.2.54 nvidia-curand-cu12-10.3.2.106 nvidia-cusolver-cu12-11.4.5.107 nvidia-cusparse-cu12-12.1.0.106 nvidia-nccl-cu12-2.18.1 nvidia-nvtx-cu12-12.1.105 torch-2.1.2 torchvision-0.16.2 triton-2.1.0\n",
            "/usr/local/lib/python3.11/dist-packages/setuptools/__init__.py:94: _DeprecatedInstaller: setuptools.installer and fetch_build_eggs are deprecated.\n",
            "!!\n",
            "\n",
            "        ********************************************************************************\n",
            "        Requirements should be satisfied by a PEP 517 installer.\n",
            "        If you are using pip, you can try `pip install --use-pep517`.\n",
            "        ********************************************************************************\n",
            "\n",
            "!!\n",
            "  dist.fetch_build_eggs(dist.setup_requires)\n",
            "running develop\n",
            "/usr/local/lib/python3.11/dist-packages/setuptools/command/develop.py:41: EasyInstallDeprecationWarning: easy_install command is deprecated.\n",
            "!!\n",
            "\n",
            "        ********************************************************************************\n",
            "        Please avoid running ``setup.py`` and ``easy_install``.\n",
            "        Instead, use pypa/build, pypa/installer or other\n",
            "        standards-based tools.\n",
            "\n",
            "        See https://github.com/pypa/setuptools/issues/917 for details.\n",
            "        ********************************************************************************\n",
            "\n",
            "!!\n",
            "  easy_install.initialize_options(self)\n",
            "/usr/local/lib/python3.11/dist-packages/setuptools/_distutils/cmd.py:66: SetuptoolsDeprecationWarning: setup.py install is deprecated.\n",
            "!!\n",
            "\n",
            "        ********************************************************************************\n",
            "        Please avoid running ``setup.py`` directly.\n",
            "        Instead, use pypa/build, pypa/installer or other\n",
            "        standards-based tools.\n",
            "\n",
            "        See https://blog.ganssle.io/articles/2021/10/setup-py-deprecated.html for details.\n",
            "        ********************************************************************************\n",
            "\n",
            "!!\n",
            "  self.initialize_options()\n",
            "running egg_info\n",
            "writing realesrgan.egg-info/PKG-INFO\n",
            "writing dependency_links to realesrgan.egg-info/dependency_links.txt\n",
            "writing requirements to realesrgan.egg-info/requires.txt\n",
            "writing top-level names to realesrgan.egg-info/top_level.txt\n",
            "reading manifest file 'realesrgan.egg-info/SOURCES.txt'\n",
            "reading manifest template 'MANIFEST.in'\n",
            "adding license file 'LICENSE'\n",
            "writing manifest file 'realesrgan.egg-info/SOURCES.txt'\n",
            "running build_ext\n",
            "Creating /usr/local/lib/python3.11/dist-packages/realesrgan.egg-link (link to .)\n",
            "Adding realesrgan 0.3.0 to easy-install.pth file\n",
            "\n",
            "Installed /content/drive/MyDrive/fin_project/Real-ESRGAN\n",
            "Processing dependencies for realesrgan==0.3.0\n",
            "Searching for tqdm==4.67.1\n",
            "Best match: tqdm 4.67.1\n",
            "Adding tqdm 4.67.1 to easy-install.pth file\n",
            "Installing tqdm script to /usr/local/bin\n",
            "\n",
            "Using /usr/local/lib/python3.11/dist-packages\n",
            "Searching for torchvision==0.16.2\n",
            "Best match: torchvision 0.16.2\n",
            "Adding torchvision 0.16.2 to easy-install.pth file\n",
            "\n",
            "Using /usr/local/lib/python3.11/dist-packages\n",
            "Searching for torch==2.1.2\n",
            "Best match: torch 2.1.2\n",
            "Adding torch 2.1.2 to easy-install.pth file\n",
            "Installing convert-caffe2-to-onnx script to /usr/local/bin\n",
            "Installing convert-onnx-to-caffe2 script to /usr/local/bin\n",
            "Installing torchrun script to /usr/local/bin\n",
            "\n",
            "Using /usr/local/lib/python3.11/dist-packages\n",
            "Searching for pillow==11.1.0\n",
            "Best match: pillow 11.1.0\n",
            "Adding pillow 11.1.0 to easy-install.pth file\n",
            "\n",
            "Using /usr/local/lib/python3.11/dist-packages\n",
            "Searching for opencv-python==4.11.0.86\n",
            "Best match: opencv-python 4.11.0.86\n",
            "Adding opencv-python 4.11.0.86 to easy-install.pth file\n",
            "\n",
            "Using /usr/local/lib/python3.11/dist-packages\n",
            "Searching for numpy==1.26.4\n",
            "Best match: numpy 1.26.4\n",
            "Adding numpy 1.26.4 to easy-install.pth file\n",
            "Installing f2py script to /usr/local/bin\n",
            "\n",
            "Using /usr/local/lib/python3.11/dist-packages\n",
            "Searching for gfpgan==1.3.8\n",
            "Best match: gfpgan 1.3.8\n",
            "Adding gfpgan 1.3.8 to easy-install.pth file\n",
            "\n",
            "Using /usr/local/lib/python3.11/dist-packages\n",
            "Searching for facexlib==0.3.0\n",
            "Best match: facexlib 0.3.0\n",
            "Adding facexlib 0.3.0 to easy-install.pth file\n",
            "\n",
            "Using /usr/local/lib/python3.11/dist-packages\n",
            "Searching for basicsr==1.4.2\n",
            "Best match: basicsr 1.4.2\n",
            "Adding basicsr 1.4.2 to easy-install.pth file\n",
            "\n",
            "Using /usr/local/lib/python3.11/dist-packages\n",
            "Searching for requests==2.32.3\n",
            "Best match: requests 2.32.3\n",
            "Adding requests 2.32.3 to easy-install.pth file\n",
            "\n",
            "Using /usr/local/lib/python3.11/dist-packages\n",
            "Searching for triton==2.1.0\n",
            "Best match: triton 2.1.0\n",
            "Adding triton 2.1.0 to easy-install.pth file\n",
            "\n",
            "Using /usr/local/lib/python3.11/dist-packages\n",
            "Searching for nvidia-nvtx-cu12==12.1.105\n",
            "Best match: nvidia-nvtx-cu12 12.1.105\n",
            "Adding nvidia-nvtx-cu12 12.1.105 to easy-install.pth file\n",
            "\n",
            "Using /usr/local/lib/python3.11/dist-packages\n",
            "Searching for nvidia-nccl-cu12==2.18.1\n",
            "Best match: nvidia-nccl-cu12 2.18.1\n",
            "Adding nvidia-nccl-cu12 2.18.1 to easy-install.pth file\n",
            "\n",
            "Using /usr/local/lib/python3.11/dist-packages\n",
            "Searching for nvidia-cusparse-cu12==12.1.0.106\n",
            "Best match: nvidia-cusparse-cu12 12.1.0.106\n",
            "Adding nvidia-cusparse-cu12 12.1.0.106 to easy-install.pth file\n",
            "\n",
            "Using /usr/local/lib/python3.11/dist-packages\n",
            "Searching for nvidia-cusolver-cu12==11.4.5.107\n",
            "Best match: nvidia-cusolver-cu12 11.4.5.107\n",
            "Adding nvidia-cusolver-cu12 11.4.5.107 to easy-install.pth file\n",
            "\n",
            "Using /usr/local/lib/python3.11/dist-packages\n",
            "Searching for nvidia-curand-cu12==10.3.2.106\n",
            "Best match: nvidia-curand-cu12 10.3.2.106\n",
            "Adding nvidia-curand-cu12 10.3.2.106 to easy-install.pth file\n",
            "\n",
            "Using /usr/local/lib/python3.11/dist-packages\n",
            "Searching for nvidia-cufft-cu12==11.0.2.54\n",
            "Best match: nvidia-cufft-cu12 11.0.2.54\n",
            "Adding nvidia-cufft-cu12 11.0.2.54 to easy-install.pth file\n",
            "\n",
            "Using /usr/local/lib/python3.11/dist-packages\n",
            "Searching for nvidia-cublas-cu12==12.1.3.1\n",
            "Best match: nvidia-cublas-cu12 12.1.3.1\n",
            "Adding nvidia-cublas-cu12 12.1.3.1 to easy-install.pth file\n",
            "\n",
            "Using /usr/local/lib/python3.11/dist-packages\n",
            "Searching for nvidia-cudnn-cu12==8.9.2.26\n",
            "Best match: nvidia-cudnn-cu12 8.9.2.26\n",
            "Adding nvidia-cudnn-cu12 8.9.2.26 to easy-install.pth file\n",
            "\n",
            "Using /usr/local/lib/python3.11/dist-packages\n",
            "Searching for nvidia-cuda-cupti-cu12==12.1.105\n",
            "Best match: nvidia-cuda-cupti-cu12 12.1.105\n",
            "Adding nvidia-cuda-cupti-cu12 12.1.105 to easy-install.pth file\n",
            "\n",
            "Using /usr/local/lib/python3.11/dist-packages\n",
            "Searching for nvidia-cuda-runtime-cu12==12.1.105\n",
            "Best match: nvidia-cuda-runtime-cu12 12.1.105\n",
            "Adding nvidia-cuda-runtime-cu12 12.1.105 to easy-install.pth file\n",
            "\n",
            "Using /usr/local/lib/python3.11/dist-packages\n",
            "Searching for nvidia-cuda-nvrtc-cu12==12.1.105\n",
            "Best match: nvidia-cuda-nvrtc-cu12 12.1.105\n",
            "Adding nvidia-cuda-nvrtc-cu12 12.1.105 to easy-install.pth file\n",
            "\n",
            "Using /usr/local/lib/python3.11/dist-packages\n",
            "Searching for fsspec==2024.10.0\n",
            "Best match: fsspec 2024.10.0\n",
            "Adding fsspec 2024.10.0 to easy-install.pth file\n",
            "\n",
            "Using /usr/local/lib/python3.11/dist-packages\n",
            "Searching for jinja2==3.1.5\n",
            "Best match: jinja2 3.1.5\n",
            "Adding jinja2 3.1.5 to easy-install.pth file\n",
            "\n",
            "Using /usr/local/lib/python3.11/dist-packages\n",
            "Searching for networkx==3.4.2\n",
            "Best match: networkx 3.4.2\n",
            "Adding networkx 3.4.2 to easy-install.pth file\n",
            "\n",
            "Using /usr/local/lib/python3.11/dist-packages\n",
            "Searching for sympy==1.13.1\n",
            "Best match: sympy 1.13.1\n",
            "Adding sympy 1.13.1 to easy-install.pth file\n",
            "Installing isympy script to /usr/local/bin\n",
            "\n",
            "Using /usr/local/lib/python3.11/dist-packages\n",
            "Searching for typing-extensions==4.12.2\n",
            "Best match: typing-extensions 4.12.2\n",
            "Adding typing-extensions 4.12.2 to easy-install.pth file\n",
            "\n",
            "Using /usr/local/lib/python3.11/dist-packages/setuptools/_vendor\n",
            "Searching for filelock==3.17.0\n",
            "Best match: filelock 3.17.0\n",
            "Adding filelock 3.17.0 to easy-install.pth file\n",
            "detected new path './setuptools/_vendor'\n",
            "\n",
            "Using /usr/local/lib/python3.11/dist-packages\n",
            "Searching for yapf==0.43.0\n",
            "Best match: yapf 0.43.0\n",
            "Adding yapf 0.43.0 to easy-install.pth file\n",
            "Installing yapf script to /usr/local/bin\n",
            "Installing yapf-diff script to /usr/local/bin\n",
            "\n",
            "Using /usr/local/lib/python3.11/dist-packages\n",
            "Searching for tb-nightly==2.19.0a20250209\n",
            "Best match: tb-nightly 2.19.0a20250209\n",
            "Adding tb-nightly 2.19.0a20250209 to easy-install.pth file\n",
            "Installing tensorboard script to /usr/local/bin\n",
            "\n",
            "Using /usr/local/lib/python3.11/dist-packages\n",
            "Searching for scipy==1.13.1\n",
            "Best match: scipy 1.13.1\n",
            "Adding scipy 1.13.1 to easy-install.pth file\n",
            "\n",
            "Using /usr/local/lib/python3.11/dist-packages\n",
            "Searching for PyYAML==6.0.2\n",
            "Best match: PyYAML 6.0.2\n",
            "Adding PyYAML 6.0.2 to easy-install.pth file\n",
            "\n",
            "Using /usr/local/lib/python3.11/dist-packages\n",
            "Searching for lmdb==1.6.2\n",
            "Best match: lmdb 1.6.2\n",
            "Adding lmdb 1.6.2 to easy-install.pth file\n",
            "\n",
            "Using /usr/local/lib/python3.11/dist-packages\n",
            "Searching for numba==0.61.0\n",
            "Best match: numba 0.61.0\n",
            "Adding numba 0.61.0 to easy-install.pth file\n",
            "\n",
            "Using /usr/local/lib/python3.11/dist-packages\n",
            "Searching for filterpy==1.4.5\n",
            "Best match: filterpy 1.4.5\n",
            "Adding filterpy 1.4.5 to easy-install.pth file\n",
            "\n",
            "Using /usr/local/lib/python3.11/dist-packages\n",
            "Searching for scikit-image==0.25.1\n",
            "Best match: scikit-image 0.25.1\n",
            "Adding scikit-image 0.25.1 to easy-install.pth file\n",
            "\n",
            "Using /usr/local/lib/python3.11/dist-packages\n",
            "Searching for future==1.0.0\n",
            "Best match: future 1.0.0\n",
            "Adding future 1.0.0 to easy-install.pth file\n",
            "Installing futurize script to /usr/local/bin\n",
            "Installing pasteurize script to /usr/local/bin\n",
            "\n",
            "Using /usr/local/lib/python3.11/dist-packages\n",
            "Searching for addict==2.4.0\n",
            "Best match: addict 2.4.0\n",
            "Adding addict 2.4.0 to easy-install.pth file\n",
            "\n",
            "Using /usr/local/lib/python3.11/dist-packages\n",
            "Searching for certifi==2025.1.31\n",
            "Best match: certifi 2025.1.31\n",
            "Adding certifi 2025.1.31 to easy-install.pth file\n",
            "\n",
            "Using /usr/local/lib/python3.11/dist-packages\n",
            "Searching for urllib3==2.3.0\n",
            "Best match: urllib3 2.3.0\n",
            "Adding urllib3 2.3.0 to easy-install.pth file\n",
            "\n",
            "Using /usr/local/lib/python3.11/dist-packages\n",
            "Searching for idna==3.10\n",
            "Best match: idna 3.10\n",
            "Adding idna 3.10 to easy-install.pth file\n",
            "\n",
            "Using /usr/local/lib/python3.11/dist-packages\n",
            "Searching for charset-normalizer==3.4.1\n",
            "Best match: charset-normalizer 3.4.1\n",
            "Adding charset-normalizer 3.4.1 to easy-install.pth file\n",
            "Installing normalizer script to /usr/local/bin\n",
            "\n",
            "Using /usr/local/lib/python3.11/dist-packages\n",
            "Searching for nvidia-nvjitlink-cu12==12.4.127\n",
            "Best match: nvidia-nvjitlink-cu12 12.4.127\n",
            "Adding nvidia-nvjitlink-cu12 12.4.127 to easy-install.pth file\n",
            "\n",
            "Using /usr/local/lib/python3.11/dist-packages\n",
            "Searching for MarkupSafe==3.0.2\n",
            "Best match: MarkupSafe 3.0.2\n",
            "Adding MarkupSafe 3.0.2 to easy-install.pth file\n",
            "\n",
            "Using /usr/local/lib/python3.11/dist-packages\n",
            "Searching for mpmath==1.3.0\n",
            "Best match: mpmath 1.3.0\n",
            "Adding mpmath 1.3.0 to easy-install.pth file\n",
            "\n",
            "Using /usr/local/lib/python3.11/dist-packages\n",
            "Searching for platformdirs==4.3.6\n",
            "Best match: platformdirs 4.3.6\n",
            "Adding platformdirs 4.3.6 to easy-install.pth file\n",
            "\n",
            "Using /usr/local/lib/python3.11/dist-packages\n",
            "Searching for werkzeug==3.1.3\n",
            "Best match: werkzeug 3.1.3\n",
            "Adding werkzeug 3.1.3 to easy-install.pth file\n",
            "\n",
            "Using /usr/local/lib/python3.11/dist-packages\n",
            "Searching for tensorboard-data-server==0.7.2\n",
            "Best match: tensorboard-data-server 0.7.2\n",
            "Adding tensorboard-data-server 0.7.2 to easy-install.pth file\n",
            "\n",
            "Using /usr/local/lib/python3.11/dist-packages\n",
            "Searching for six==1.17.0\n",
            "Best match: six 1.17.0\n",
            "Adding six 1.17.0 to easy-install.pth file\n",
            "\n",
            "Using /usr/local/lib/python3.11/dist-packages\n",
            "Searching for setuptools==75.1.0\n",
            "Best match: setuptools 75.1.0\n",
            "Adding setuptools 75.1.0 to easy-install.pth file\n",
            "\n",
            "Using /usr/local/lib/python3.11/dist-packages\n",
            "Searching for protobuf==4.25.6\n",
            "Best match: protobuf 4.25.6\n",
            "Adding protobuf 4.25.6 to easy-install.pth file\n",
            "\n",
            "Using /usr/local/lib/python3.11/dist-packages\n",
            "Searching for packaging==24.2\n",
            "Best match: packaging 24.2\n",
            "Adding packaging 24.2 to easy-install.pth file\n",
            "\n",
            "Using /usr/local/lib/python3.11/dist-packages\n",
            "Searching for Markdown==3.7\n",
            "Best match: Markdown 3.7\n",
            "Adding Markdown 3.7 to easy-install.pth file\n",
            "Installing markdown_py script to /usr/local/bin\n",
            "\n",
            "Using /usr/local/lib/python3.11/dist-packages\n",
            "Searching for grpcio==1.70.0\n",
            "Best match: grpcio 1.70.0\n",
            "Adding grpcio 1.70.0 to easy-install.pth file\n",
            "\n",
            "Using /usr/local/lib/python3.11/dist-packages\n",
            "Searching for absl-py==1.4.0\n",
            "Best match: absl-py 1.4.0\n",
            "Adding absl-py 1.4.0 to easy-install.pth file\n",
            "\n",
            "Using /usr/local/lib/python3.11/dist-packages\n",
            "Searching for llvmlite==0.44.0\n",
            "Best match: llvmlite 0.44.0\n",
            "Adding llvmlite 0.44.0 to easy-install.pth file\n",
            "\n",
            "Using /usr/local/lib/python3.11/dist-packages\n",
            "Searching for matplotlib==3.10.0\n",
            "Best match: matplotlib 3.10.0\n",
            "Adding matplotlib 3.10.0 to easy-install.pth file\n",
            "\n",
            "Using /usr/local/lib/python3.11/dist-packages\n",
            "Searching for lazy-loader==0.4\n",
            "Best match: lazy-loader 0.4\n",
            "Adding lazy-loader 0.4 to easy-install.pth file\n",
            "\n",
            "Using /usr/local/lib/python3.11/dist-packages\n",
            "Searching for tifffile==2025.1.10\n",
            "Best match: tifffile 2025.1.10\n",
            "Adding tifffile 2025.1.10 to easy-install.pth file\n",
            "Installing lsm2bin script to /usr/local/bin\n",
            "Installing tiff2fsspec script to /usr/local/bin\n",
            "Installing tiffcomment script to /usr/local/bin\n",
            "Installing tifffile script to /usr/local/bin\n",
            "\n",
            "Using /usr/local/lib/python3.11/dist-packages\n",
            "Searching for imageio==2.37.0\n",
            "Best match: imageio 2.37.0\n",
            "Adding imageio 2.37.0 to easy-install.pth file\n",
            "Installing imageio_download_bin script to /usr/local/bin\n",
            "Installing imageio_remove_bin script to /usr/local/bin\n",
            "\n",
            "Using /usr/local/lib/python3.11/dist-packages\n",
            "Searching for python-dateutil==2.8.2\n",
            "Best match: python-dateutil 2.8.2\n",
            "Adding python-dateutil 2.8.2 to easy-install.pth file\n",
            "\n",
            "Using /usr/local/lib/python3.11/dist-packages\n",
            "Searching for pyparsing==3.2.1\n",
            "Best match: pyparsing 3.2.1\n",
            "Adding pyparsing 3.2.1 to easy-install.pth file\n",
            "\n",
            "Using /usr/local/lib/python3.11/dist-packages\n",
            "Searching for kiwisolver==1.4.8\n",
            "Best match: kiwisolver 1.4.8\n",
            "Adding kiwisolver 1.4.8 to easy-install.pth file\n",
            "\n",
            "Using /usr/local/lib/python3.11/dist-packages\n",
            "Searching for fonttools==4.55.8\n",
            "Best match: fonttools 4.55.8\n",
            "Adding fonttools 4.55.8 to easy-install.pth file\n",
            "Installing fonttools script to /usr/local/bin\n",
            "Installing pyftmerge script to /usr/local/bin\n",
            "Installing pyftsubset script to /usr/local/bin\n",
            "Installing ttx script to /usr/local/bin\n",
            "\n",
            "Using /usr/local/lib/python3.11/dist-packages\n",
            "Searching for cycler==0.12.1\n",
            "Best match: cycler 0.12.1\n",
            "Adding cycler 0.12.1 to easy-install.pth file\n",
            "\n",
            "Using /usr/local/lib/python3.11/dist-packages\n",
            "Searching for contourpy==1.3.1\n",
            "Best match: contourpy 1.3.1\n",
            "Adding contourpy 1.3.1 to easy-install.pth file\n",
            "\n",
            "Using /usr/local/lib/python3.11/dist-packages\n",
            "Finished processing dependencies for realesrgan==0.3.0\n"
          ]
        }
      ],
      "source": [
        "!pip install -r requirements.txt\n",
        "!pip install torchvision==0.16.2\n",
        "!python setup.py develop"
      ]
    },
    {
      "cell_type": "markdown",
      "metadata": {
        "id": "yEQrjtuRq0Wg"
      },
      "source": [
        "## upscaling"
      ]
    },
    {
      "cell_type": "code",
      "source": [
        "%cd ..\n",
        "!pwd"
      ],
      "metadata": {
        "colab": {
          "base_uri": "https://localhost:8080/"
        },
        "id": "K8777M2Uxvuj",
        "outputId": "7814b8a6-730f-4e43-aa45-b6b9e13c33be"
      },
      "execution_count": null,
      "outputs": [
        {
          "output_type": "stream",
          "name": "stdout",
          "text": [
            "/content/drive/MyDrive/fin_project\n",
            "/content/drive/MyDrive/fin_project\n"
          ]
        }
      ]
    },
    {
      "cell_type": "markdown",
      "source": [
        "### part1"
      ],
      "metadata": {
        "id": "r5tj32fXFfvg"
      }
    },
    {
      "cell_type": "code",
      "source": [
        "import zipfile\n",
        "import os\n",
        "\n",
        "part = 'tiling_part1'\n",
        "input_path = 'data/tiling_zip/'+ part +'.zip'\n",
        "output_dir = '/content/' + part\n",
        "\n",
        "os.makedirs(output_dir, exist_ok=True)\n",
        "\n",
        "# ZIP 파일 압축 해제\n",
        "with zipfile.ZipFile(input_path, 'r') as zip_ref:\n",
        "    zip_ref.extractall(output_dir)\n",
        "\n",
        "print(f\"압축 해제 경로: {output_dir}\")\n",
        "\n",
        "img_dir = '/content/' + part + '/'\n",
        "file_names = [img_dir + file for file in os.listdir(img_dir) if os.path.isfile(os.path.join(img_dir, file))]\n",
        "print(len(file_names))\n"
      ],
      "metadata": {
        "colab": {
          "base_uri": "https://localhost:8080/"
        },
        "id": "yM2mZG75xwXy",
        "outputId": "66beae3e-cb3a-4c3e-936b-98a3d3875dd7"
      },
      "execution_count": null,
      "outputs": [
        {
          "output_type": "stream",
          "name": "stdout",
          "text": [
            "압축 해제 경로: /content/tiling_part1\n"
          ]
        }
      ]
    },
    {
      "cell_type": "code",
      "execution_count": null,
      "metadata": {
        "id": "Daq9vtqkjJXB"
      },
      "outputs": [],
      "source": [
        "\n",
        "# os.makedirs(upscaling_dir, exist_ok=True)"
      ]
    },
    {
      "cell_type": "code",
      "source": [
        "from concurrent.futures import ThreadPoolExecutor\n",
        "import subprocess\n",
        "from tqdm import tqdm\n",
        "\n",
        "def upscale_image(file_name):\n",
        "    command = f\"CUDA_VISIBLE_DEVICES=0 python Real-ESRGAN/inference_realesrgan.py -n RealESRGAN_x4plus -i {file_name} -o {upscaling_dir} --outscale 1\"\n",
        "    subprocess.run(command, shell=True)\n",
        "\n",
        "upscaling_dir = 'data/upscaling'\n",
        "\n",
        "with ThreadPoolExecutor(max_workers=7) as executor:\n",
        "    list(tqdm(executor.map(upscale_image, file_names), total=len(file_names)))"
      ],
      "metadata": {
        "colab": {
          "base_uri": "https://localhost:8080/"
        },
        "id": "YJpmorcm3cTC",
        "outputId": "cbaf8aa0-77a4-43c1-946f-5b90209e21e8"
      },
      "execution_count": null,
      "outputs": [
        {
          "output_type": "stream",
          "name": "stderr",
          "text": [
            "100%|██████████| 2317/2317 [3:15:32<00:00,  5.06s/it]\n"
          ]
        }
      ]
    },
    {
      "cell_type": "markdown",
      "source": [
        "### part2"
      ],
      "metadata": {
        "id": "noombkZhFjt1"
      }
    },
    {
      "cell_type": "code",
      "source": [
        "import zipfile\n",
        "import os\n",
        "\n",
        "part = 'tiling_part2'\n",
        "input_path = 'data/tiling_zip/'+ part +'.zip'\n",
        "output_dir = '/content/' + part\n",
        "\n",
        "os.makedirs(output_dir, exist_ok=True)\n",
        "\n",
        "# ZIP 파일 압축 해제\n",
        "with zipfile.ZipFile(input_path, 'r') as zip_ref:\n",
        "    zip_ref.extractall(output_dir)\n",
        "\n",
        "print(f\"압축 해제 경로: {output_dir}\")\n",
        "\n",
        "img_dir = '/content/' + part + '/'\n",
        "file_names = [img_dir + file for file in os.listdir(img_dir) if os.path.isfile(os.path.join(img_dir, file))]\n",
        "print(len(file_names))"
      ],
      "metadata": {
        "colab": {
          "base_uri": "https://localhost:8080/"
        },
        "id": "yW86XQQlhIMM",
        "outputId": "618def74-b3db-49c8-ef6b-9d3e3d64528f"
      },
      "execution_count": null,
      "outputs": [
        {
          "output_type": "stream",
          "name": "stdout",
          "text": [
            "압축 해제 경로: /content/tiling_part2\n",
            "2317\n"
          ]
        }
      ]
    },
    {
      "cell_type": "code",
      "source": [
        "from concurrent.futures import ThreadPoolExecutor\n",
        "import subprocess\n",
        "from tqdm import tqdm\n",
        "\n",
        "def upscale_image(file_name):\n",
        "    command = f\"CUDA_VISIBLE_DEVICES=0 python Real-ESRGAN/inference_realesrgan.py -n RealESRGAN_x4plus -i {file_name} -o {upscaling_dir} --outscale 1\"\n",
        "    subprocess.run(command, shell=True)\n",
        "\n",
        "upscaling_dir = 'data/upscaling'\n",
        "\n",
        "with ThreadPoolExecutor(max_workers=7) as executor:\n",
        "    list(tqdm(executor.map(upscale_image, file_names), total=len(file_names)))"
      ],
      "metadata": {
        "colab": {
          "base_uri": "https://localhost:8080/"
        },
        "id": "plDti7lchTO8",
        "outputId": "a3c8a407-6b90-4729-d02f-0da6121771d2"
      },
      "execution_count": null,
      "outputs": [
        {
          "output_type": "stream",
          "name": "stderr",
          "text": [
            "100%|██████████| 2317/2317 [3:20:49<00:00,  5.20s/it]\n"
          ]
        }
      ]
    },
    {
      "cell_type": "markdown",
      "source": [
        "### part3"
      ],
      "metadata": {
        "id": "eOdFfa15Fp3b"
      }
    },
    {
      "cell_type": "code",
      "source": [
        "import zipfile\n",
        "import os\n",
        "\n",
        "part = 'tiling_part3'\n",
        "input_path = 'data/tiling_zip/'+ part +'.zip'\n",
        "output_dir = '/content/' + part\n",
        "\n",
        "os.makedirs(output_dir, exist_ok=True)\n",
        "\n",
        "# ZIP 파일 압축 해제\n",
        "with zipfile.ZipFile(input_path, 'r') as zip_ref:\n",
        "    zip_ref.extractall(output_dir)\n",
        "\n",
        "print(f\"압축 해제 경로: {output_dir}\")\n",
        "\n",
        "img_dir = '/content/' + part + '/'\n",
        "file_names = [img_dir + file for file in os.listdir(img_dir) if os.path.isfile(os.path.join(img_dir, file))]\n",
        "print(len(file_names))"
      ],
      "metadata": {
        "colab": {
          "base_uri": "https://localhost:8080/"
        },
        "id": "55oqJUILhVQs",
        "outputId": "e74668f0-3fcd-48e4-bf85-d18e1c8fe959"
      },
      "execution_count": null,
      "outputs": [
        {
          "output_type": "stream",
          "name": "stdout",
          "text": [
            "압축 해제 경로: /content/tiling_part3\n",
            "2317\n"
          ]
        }
      ]
    },
    {
      "cell_type": "code",
      "source": [
        "from concurrent.futures import ThreadPoolExecutor\n",
        "import subprocess\n",
        "from tqdm import tqdm\n",
        "\n",
        "def upscale_image(file_name):\n",
        "    command = f\"CUDA_VISIBLE_DEVICES=0 python Real-ESRGAN/inference_realesrgan.py -n RealESRGAN_x4plus -i {file_name} -o {upscaling_dir} --outscale 1\"\n",
        "    subprocess.run(command, shell=True)\n",
        "\n",
        "upscaling_dir = 'data/upscaling'\n",
        "\n",
        "with ThreadPoolExecutor(max_workers=7) as executor:\n",
        "    list(tqdm(executor.map(upscale_image, file_names), total=len(file_names)))"
      ],
      "metadata": {
        "colab": {
          "base_uri": "https://localhost:8080/"
        },
        "id": "qUqDfIqihWWD",
        "outputId": "5c16b237-b490-4787-c577-bba03ab84162"
      },
      "execution_count": null,
      "outputs": [
        {
          "output_type": "stream",
          "name": "stderr",
          "text": [
            "100%|██████████| 2317/2317 [3:23:19<00:00,  5.27s/it]\n"
          ]
        }
      ]
    },
    {
      "cell_type": "markdown",
      "source": [
        "### part4"
      ],
      "metadata": {
        "id": "aBLrKHR1FsIM"
      }
    },
    {
      "cell_type": "code",
      "source": [
        "import zipfile\n",
        "import os\n",
        "\n",
        "part = 'tiling_part4'\n",
        "input_path = 'data/tiling_zip/'+ part +'.zip'\n",
        "output_dir = '/content/' + part\n",
        "\n",
        "os.makedirs(output_dir, exist_ok=True)\n",
        "\n",
        "# ZIP 파일 압축 해제\n",
        "with zipfile.ZipFile(input_path, 'r') as zip_ref:\n",
        "    zip_ref.extractall(output_dir)\n",
        "\n",
        "print(f\"압축 해제 경로: {output_dir}\")\n",
        "\n",
        "img_dir = '/content/' + part + '/'\n",
        "file_names = [img_dir + file for file in os.listdir(img_dir) if os.path.isfile(os.path.join(img_dir, file))]\n",
        "print(len(file_names))"
      ],
      "metadata": {
        "colab": {
          "base_uri": "https://localhost:8080/"
        },
        "id": "X2rBTFiLklzr",
        "outputId": "05096871-f0dd-4f66-8a48-3e02ed2b0ed9"
      },
      "execution_count": null,
      "outputs": [
        {
          "output_type": "stream",
          "name": "stdout",
          "text": [
            "압축 해제 경로: /content/tiling_part4\n",
            "2317\n"
          ]
        }
      ]
    },
    {
      "cell_type": "code",
      "source": [
        "from concurrent.futures import ThreadPoolExecutor\n",
        "import subprocess\n",
        "from tqdm import tqdm\n",
        "\n",
        "def upscale_image(file_name):\n",
        "    command = f\"CUDA_VISIBLE_DEVICES=0 python Real-ESRGAN/inference_realesrgan.py -n RealESRGAN_x4plus -i {file_name} -o {upscaling_dir} --outscale 1\"\n",
        "    subprocess.run(command, shell=True)\n",
        "\n",
        "upscaling_dir = 'data/upscaling'\n",
        "\n",
        "with ThreadPoolExecutor(max_workers=7) as executor:\n",
        "    list(tqdm(executor.map(upscale_image, file_names), total=len(file_names)))"
      ],
      "metadata": {
        "colab": {
          "base_uri": "https://localhost:8080/"
        },
        "id": "0eCjg9SPkm1D",
        "outputId": "affeb1f3-403a-40f2-cc1d-9f411809ad01"
      },
      "execution_count": null,
      "outputs": [
        {
          "output_type": "stream",
          "name": "stderr",
          "text": [
            "100%|██████████| 2317/2317 [3:27:38<00:00,  5.38s/it]\n"
          ]
        }
      ]
    },
    {
      "cell_type": "code",
      "source": [
        "img_dir = '/content/drive/MyDrive/fin_project/data/upscaling'\n",
        "file_names = [img_dir + file for file in os.listdir(img_dir) if os.path.isfile(os.path.join(img_dir, file))]\n",
        "print(len(file_names))"
      ],
      "metadata": {
        "colab": {
          "base_uri": "https://localhost:8080/"
        },
        "id": "mCaCEC6LTYFt",
        "outputId": "c1700b0a-298f-474d-b37f-8250ab928e2d"
      },
      "execution_count": null,
      "outputs": [
        {
          "output_type": "stream",
          "name": "stdout",
          "text": [
            "9234\n"
          ]
        }
      ]
    },
    {
      "cell_type": "markdown",
      "source": [
        "### part5"
      ],
      "metadata": {
        "id": "RP8XrlPHFuVd"
      }
    },
    {
      "cell_type": "code",
      "source": [
        "import zipfile\n",
        "import os\n",
        "\n",
        "part = 'tiling_part5'\n",
        "input_path = 'data/tiling_zip/'+ part +'.zip'\n",
        "output_dir = '/content/' + part\n",
        "\n",
        "os.makedirs(output_dir, exist_ok=True)\n",
        "\n",
        "# ZIP 파일 압축 해제\n",
        "with zipfile.ZipFile(input_path, 'r') as zip_ref:\n",
        "    zip_ref.extractall(output_dir)\n",
        "\n",
        "print(f\"압축 해제 경로: {output_dir}\")\n",
        "\n",
        "img_dir = '/content/' + part + '/'\n",
        "file_names = [img_dir + file for file in os.listdir(img_dir) if os.path.isfile(os.path.join(img_dir, file))]\n",
        "print(len(file_names))"
      ],
      "metadata": {
        "colab": {
          "base_uri": "https://localhost:8080/"
        },
        "id": "1vojncN8TT-9",
        "outputId": "7440fb4b-18e4-48cd-b35c-6a269f3c5538"
      },
      "execution_count": null,
      "outputs": [
        {
          "output_type": "stream",
          "name": "stdout",
          "text": [
            "압축 해제 경로: /content/tiling_part5\n",
            "2317\n"
          ]
        }
      ]
    },
    {
      "cell_type": "code",
      "source": [
        "from concurrent.futures import ThreadPoolExecutor\n",
        "import subprocess\n",
        "from tqdm import tqdm\n",
        "\n",
        "def upscale_image(file_name):\n",
        "    command = f\"CUDA_VISIBLE_DEVICES=0 python Real-ESRGAN/inference_realesrgan.py -n RealESRGAN_x4plus -i {file_name} -o {upscaling_dir} --outscale 1\"\n",
        "    subprocess.run(command, shell=True)\n",
        "\n",
        "upscaling_dir = 'data/upscaling'\n",
        "\n",
        "with ThreadPoolExecutor(max_workers=7) as executor:\n",
        "    list(tqdm(executor.map(upscale_image, file_names), total=len(file_names)))"
      ],
      "metadata": {
        "colab": {
          "base_uri": "https://localhost:8080/"
        },
        "id": "z937Xd-hTU3u",
        "outputId": "689fbfed-c0a3-4790-d9f8-a511598c5042"
      },
      "execution_count": null,
      "outputs": [
        {
          "output_type": "stream",
          "name": "stderr",
          "text": [
            "100%|██████████| 2317/2317 [3:35:35<00:00,  5.58s/it]\n"
          ]
        }
      ]
    },
    {
      "cell_type": "code",
      "source": [
        "img_dir = '/content/drive/MyDrive/fin_project/data/upscaling'\n",
        "file_names = [img_dir + file for file in os.listdir(img_dir) if os.path.isfile(os.path.join(img_dir, file))]\n",
        "print(len(file_names))"
      ],
      "metadata": {
        "colab": {
          "base_uri": "https://localhost:8080/"
        },
        "id": "OK-kiY4mXwty",
        "outputId": "c4dce26b-a74e-4a0b-8c66-f5a576d97e11"
      },
      "execution_count": null,
      "outputs": [
        {
          "output_type": "stream",
          "name": "stdout",
          "text": [
            "11540\n"
          ]
        }
      ]
    },
    {
      "cell_type": "markdown",
      "source": [
        "### part6"
      ],
      "metadata": {
        "id": "TJzgJCL7Fw_7"
      }
    },
    {
      "cell_type": "code",
      "source": [
        "import zipfile\n",
        "import os\n",
        "\n",
        "part = 'tiling_part6'\n",
        "input_path = 'data/tiling_zip/'+ part +'.zip'\n",
        "output_dir = '/content/' + part\n",
        "\n",
        "os.makedirs(output_dir, exist_ok=True)\n",
        "\n",
        "# ZIP 파일 압축 해제\n",
        "with zipfile.ZipFile(input_path, 'r') as zip_ref:\n",
        "    zip_ref.extractall(output_dir)\n",
        "\n",
        "print(f\"압축 해제 경로: {output_dir}\")\n",
        "\n",
        "img_dir = '/content/' + part + '/'\n",
        "file_names = [img_dir + file for file in os.listdir(img_dir) if os.path.isfile(os.path.join(img_dir, file))]\n",
        "print(len(file_names))"
      ],
      "metadata": {
        "colab": {
          "base_uri": "https://localhost:8080/"
        },
        "id": "zBUdCqHlXzZ0",
        "outputId": "ef6dba47-e297-4f1f-fc23-7cd96a161f6d"
      },
      "execution_count": null,
      "outputs": [
        {
          "output_type": "stream",
          "name": "stdout",
          "text": [
            "압축 해제 경로: /content/tiling_part6\n",
            "2317\n"
          ]
        }
      ]
    },
    {
      "cell_type": "code",
      "source": [
        "from concurrent.futures import ThreadPoolExecutor\n",
        "import subprocess\n",
        "from tqdm import tqdm\n",
        "\n",
        "def upscale_image(file_name):\n",
        "    command = f\"CUDA_VISIBLE_DEVICES=0 python Real-ESRGAN/inference_realesrgan.py -n RealESRGAN_x4plus -i {file_name} -o {upscaling_dir} --outscale 1\"\n",
        "    subprocess.run(command, shell=True)\n",
        "\n",
        "upscaling_dir = 'data/upscaling'\n",
        "\n",
        "with ThreadPoolExecutor(max_workers=7) as executor:\n",
        "    list(tqdm(executor.map(upscale_image, file_names), total=len(file_names)))"
      ],
      "metadata": {
        "colab": {
          "base_uri": "https://localhost:8080/"
        },
        "id": "3GGLe7rtX1nN",
        "outputId": "4ae8bb7e-2695-478d-9d86-1ca22313db6a"
      },
      "execution_count": null,
      "outputs": [
        {
          "output_type": "stream",
          "name": "stderr",
          "text": [
            "100%|██████████| 2317/2317 [3:39:43<00:00,  5.69s/it]\n"
          ]
        }
      ]
    },
    {
      "cell_type": "code",
      "source": [
        "img_dir = '/content/drive/MyDrive/fin_project/data/upscaling'\n",
        "file_names = [img_dir + file for file in os.listdir(img_dir) if os.path.isfile(os.path.join(img_dir, file))]\n",
        "print(len(file_names))"
      ],
      "metadata": {
        "colab": {
          "base_uri": "https://localhost:8080/"
        },
        "outputId": "5c52418a-501e-4db7-db7b-9e06d7edef22",
        "id": "PgziNCzsztcx"
      },
      "execution_count": null,
      "outputs": [
        {
          "output_type": "stream",
          "name": "stdout",
          "text": [
            "13813\n"
          ]
        }
      ]
    },
    {
      "cell_type": "markdown",
      "source": [
        "### part7"
      ],
      "metadata": {
        "id": "PUX_eZh3FzK0"
      }
    },
    {
      "cell_type": "code",
      "source": [
        "import zipfile\n",
        "import os\n",
        "\n",
        "part = 'tiling_part7'\n",
        "input_path = 'data/tiling_zip/'+ part +'.zip'\n",
        "output_dir = '/content/' + part\n",
        "\n",
        "os.makedirs(output_dir, exist_ok=True)\n",
        "\n",
        "# ZIP 파일 압축 해제\n",
        "with zipfile.ZipFile(input_path, 'r') as zip_ref:\n",
        "    zip_ref.extractall(output_dir)\n",
        "\n",
        "print(f\"압축 해제 경로: {output_dir}\")\n",
        "\n",
        "img_dir = '/content/' + part + '/'\n",
        "file_names = [img_dir + file for file in os.listdir(img_dir) if os.path.isfile(os.path.join(img_dir, file))]\n",
        "print(len(file_names))"
      ],
      "metadata": {
        "colab": {
          "base_uri": "https://localhost:8080/"
        },
        "outputId": "40a98313-e53b-4d35-e0ed-07ade0b4601b",
        "id": "lczKou-8ztcy"
      },
      "execution_count": null,
      "outputs": [
        {
          "output_type": "stream",
          "name": "stdout",
          "text": [
            "압축 해제 경로: /content/tiling_part7\n",
            "2317\n"
          ]
        }
      ]
    },
    {
      "cell_type": "code",
      "source": [
        "from concurrent.futures import ThreadPoolExecutor\n",
        "import subprocess\n",
        "from tqdm import tqdm\n",
        "\n",
        "def upscale_image(file_name):\n",
        "    command = f\"CUDA_VISIBLE_DEVICES=0 python Real-ESRGAN/inference_realesrgan.py -n RealESRGAN_x4plus -i {file_name} -o {upscaling_dir} --outscale 1\"\n",
        "    subprocess.run(command, shell=True)\n",
        "\n",
        "upscaling_dir = 'data/upscaling'\n",
        "\n",
        "with ThreadPoolExecutor(max_workers=7) as executor:\n",
        "    list(tqdm(executor.map(upscale_image, file_names[1783:]), total=len(file_names[1783:])))"
      ],
      "metadata": {
        "colab": {
          "base_uri": "https://localhost:8080/"
        },
        "outputId": "4662487a-93a7-48b9-804f-1ee73bf32f06",
        "id": "ooPj4G22ztcy"
      },
      "execution_count": null,
      "outputs": [
        {
          "output_type": "stream",
          "name": "stderr",
          "text": [
            "100%|██████████| 534/534 [48:06<00:00,  5.40s/it]\n"
          ]
        }
      ]
    },
    {
      "cell_type": "code",
      "source": [
        "img_dir = '/content/drive/MyDrive/fin_project/data/upscaling'\n",
        "file_names = [img_dir + file for file in os.listdir(img_dir) if os.path.isfile(os.path.join(img_dir, file))]\n",
        "print(len(file_names))"
      ],
      "metadata": {
        "colab": {
          "base_uri": "https://localhost:8080/"
        },
        "id": "FbU_w9J39h9M",
        "outputId": "50f80a3b-1532-4ada-fa1d-d717f408a091"
      },
      "execution_count": null,
      "outputs": [
        {
          "output_type": "stream",
          "name": "stdout",
          "text": [
            "16098\n"
          ]
        }
      ]
    },
    {
      "cell_type": "markdown",
      "source": [
        "### part8"
      ],
      "metadata": {
        "id": "bryjukM2F2O-"
      }
    },
    {
      "cell_type": "code",
      "source": [
        "import zipfile\n",
        "import os\n",
        "\n",
        "part = 'tiling_part8'\n",
        "input_path = 'data/tiling_zip/'+ part +'.zip'\n",
        "output_dir = '/content/' + part\n",
        "\n",
        "os.makedirs(output_dir, exist_ok=True)\n",
        "\n",
        "# ZIP 파일 압축 해제\n",
        "with zipfile.ZipFile(input_path, 'r') as zip_ref:\n",
        "    zip_ref.extractall(output_dir)\n",
        "\n",
        "print(f\"압축 해제 경로: {output_dir}\")\n",
        "\n",
        "img_dir = '/content/' + part + '/'\n",
        "file_names = [img_dir + file for file in os.listdir(img_dir) if os.path.isfile(os.path.join(img_dir, file))]\n",
        "print(len(file_names))"
      ],
      "metadata": {
        "colab": {
          "base_uri": "https://localhost:8080/"
        },
        "id": "8n179iAl9Xlo",
        "outputId": "10478d10-aae5-4683-af10-4382901ab2c6"
      },
      "execution_count": null,
      "outputs": [
        {
          "output_type": "stream",
          "name": "stdout",
          "text": [
            "압축 해제 경로: /content/tiling_part8\n",
            "2317\n"
          ]
        }
      ]
    },
    {
      "cell_type": "code",
      "source": [
        "from concurrent.futures import ThreadPoolExecutor\n",
        "import subprocess\n",
        "from tqdm import tqdm\n",
        "\n",
        "def upscale_image(file_name):\n",
        "    command = f\"CUDA_VISIBLE_DEVICES=0 python Real-ESRGAN/inference_realesrgan.py -n RealESRGAN_x4plus -i {file_name} -o {upscaling_dir} --outscale 1\"\n",
        "    subprocess.run(command, shell=True)\n",
        "\n",
        "upscaling_dir = 'data/upscaling'\n",
        "\n",
        "with ThreadPoolExecutor(max_workers=7) as executor:\n",
        "    list(tqdm(executor.map(upscale_image, file_names), total=len(file_names)))"
      ],
      "metadata": {
        "colab": {
          "base_uri": "https://localhost:8080/"
        },
        "id": "TnT9QSTY9Ytj",
        "outputId": "ce9d1be7-0de5-4be1-f770-84d18aff2638"
      },
      "execution_count": null,
      "outputs": [
        {
          "output_type": "stream",
          "name": "stderr",
          "text": [
            "100%|██████████| 2317/2317 [3:21:51<00:00,  5.23s/it]\n"
          ]
        }
      ]
    },
    {
      "cell_type": "code",
      "source": [
        "img_dir = '/content/drive/MyDrive/fin_project/data/upscaling'\n",
        "file_names = [img_dir + file for file in os.listdir(img_dir) if os.path.isfile(os.path.join(img_dir, file))]\n",
        "print(len(file_names))"
      ],
      "metadata": {
        "colab": {
          "base_uri": "https://localhost:8080/"
        },
        "id": "OYoYF6J-F5I_",
        "outputId": "ab7ccc44-7903-48e0-b04b-8d7b979e242e"
      },
      "execution_count": null,
      "outputs": [
        {
          "output_type": "stream",
          "name": "stdout",
          "text": [
            "18413\n"
          ]
        }
      ]
    },
    {
      "cell_type": "markdown",
      "source": [
        "### part9"
      ],
      "metadata": {
        "id": "q9o2JY5zF8Qk"
      }
    },
    {
      "cell_type": "code",
      "source": [
        "import zipfile\n",
        "import os\n",
        "\n",
        "part = 'tiling_part9'\n",
        "input_path = 'data/tiling_zip/'+ part +'.zip'\n",
        "output_dir = '/content/' + part\n",
        "\n",
        "os.makedirs(output_dir, exist_ok=True)\n",
        "\n",
        "# ZIP 파일 압축 해제\n",
        "with zipfile.ZipFile(input_path, 'r') as zip_ref:\n",
        "    zip_ref.extractall(output_dir)\n",
        "\n",
        "print(f\"압축 해제 경로: {output_dir}\")\n",
        "\n",
        "img_dir = '/content/' + part + '/'\n",
        "file_names = [img_dir + file for file in os.listdir(img_dir) if os.path.isfile(os.path.join(img_dir, file))]\n",
        "print(len(file_names))"
      ],
      "metadata": {
        "colab": {
          "base_uri": "https://localhost:8080/"
        },
        "id": "qd9KotUMF69S",
        "outputId": "b337f50f-a767-4914-82bb-13c19f045ba4"
      },
      "execution_count": null,
      "outputs": [
        {
          "output_type": "stream",
          "name": "stdout",
          "text": [
            "압축 해제 경로: /content/tiling_part9\n",
            "2317\n"
          ]
        }
      ]
    },
    {
      "cell_type": "code",
      "source": [
        "from concurrent.futures import ThreadPoolExecutor\n",
        "import subprocess\n",
        "from tqdm import tqdm\n",
        "\n",
        "def upscale_image(file_name):\n",
        "    command = f\"CUDA_VISIBLE_DEVICES=0 python Real-ESRGAN/inference_realesrgan.py -n RealESRGAN_x4plus -i {file_name} -o {upscaling_dir} --outscale 1\"\n",
        "    subprocess.run(command, shell=True)\n",
        "\n",
        "upscaling_dir = 'data/upscaling'\n",
        "\n",
        "with ThreadPoolExecutor(max_workers=7) as executor:\n",
        "    list(tqdm(executor.map(upscale_image, file_names), total=len(file_names)))"
      ],
      "metadata": {
        "colab": {
          "base_uri": "https://localhost:8080/"
        },
        "id": "jfQU2v-tF69S",
        "outputId": "94e5429b-877d-4903-f2c5-9d5f6f5df9e5"
      },
      "execution_count": null,
      "outputs": [
        {
          "output_type": "stream",
          "name": "stderr",
          "text": [
            "100%|██████████| 2317/2317 [3:27:43<00:00,  5.38s/it]\n"
          ]
        }
      ]
    },
    {
      "cell_type": "code",
      "source": [
        "img_dir = '/content/drive/MyDrive/fin_project/data/upscaling'\n",
        "file_names = [img_dir + file for file in os.listdir(img_dir) if os.path.isfile(os.path.join(img_dir, file))]\n",
        "print(len(file_names))"
      ],
      "metadata": {
        "colab": {
          "base_uri": "https://localhost:8080/"
        },
        "id": "my7flf-lF69T",
        "outputId": "3698cc90-77bb-449a-f630-387a134b95c7"
      },
      "execution_count": null,
      "outputs": [
        {
          "output_type": "stream",
          "name": "stdout",
          "text": [
            "20722\n"
          ]
        }
      ]
    },
    {
      "cell_type": "markdown",
      "source": [
        "### part10"
      ],
      "metadata": {
        "id": "gnWJcJFlGCpi"
      }
    },
    {
      "cell_type": "code",
      "source": [
        "import zipfile\n",
        "import os\n",
        "\n",
        "part = 'tiling_part10'\n",
        "input_path = 'data/tiling_zip/'+ part +'.zip'\n",
        "output_dir = '/content/' + part\n",
        "\n",
        "os.makedirs(output_dir, exist_ok=True)\n",
        "\n",
        "# ZIP 파일 압축 해제\n",
        "with zipfile.ZipFile(input_path, 'r') as zip_ref:\n",
        "    zip_ref.extractall(output_dir)\n",
        "\n",
        "print(f\"압축 해제 경로: {output_dir}\")\n",
        "\n",
        "img_dir = '/content/' + part + '/'\n",
        "file_names = [img_dir + file for file in os.listdir(img_dir) if os.path.isfile(os.path.join(img_dir, file))]\n",
        "print(len(file_names))"
      ],
      "metadata": {
        "colab": {
          "base_uri": "https://localhost:8080/"
        },
        "id": "v0YulmL6GAbB",
        "outputId": "da3901e8-9b53-4500-d331-a286794e76f4"
      },
      "execution_count": null,
      "outputs": [
        {
          "output_type": "stream",
          "name": "stdout",
          "text": [
            "압축 해제 경로: /content/tiling_part10\n",
            "2322\n"
          ]
        }
      ]
    },
    {
      "cell_type": "code",
      "source": [
        "from concurrent.futures import ThreadPoolExecutor\n",
        "import subprocess\n",
        "from tqdm import tqdm\n",
        "\n",
        "def upscale_image(file_name):\n",
        "    command = f\"CUDA_VISIBLE_DEVICES=0 python Real-ESRGAN/inference_realesrgan.py -n RealESRGAN_x4plus -i {file_name} -o {upscaling_dir} --outscale 1\"\n",
        "    subprocess.run(command, shell=True)\n",
        "\n",
        "upscaling_dir = 'data/upscaling'\n",
        "\n",
        "with ThreadPoolExecutor(max_workers=7) as executor:\n",
        "    list(tqdm(executor.map(upscale_image, file_names), total=len(file_names)))"
      ],
      "metadata": {
        "colab": {
          "base_uri": "https://localhost:8080/"
        },
        "id": "72KsdVOuGAbC",
        "outputId": "a4be30a8-f541-4e70-9b25-ac6404eec64c"
      },
      "execution_count": null,
      "outputs": [
        {
          "output_type": "stream",
          "name": "stderr",
          "text": [
            "100%|██████████| 2322/2322 [3:35:25<00:00,  5.57s/it]\n"
          ]
        }
      ]
    },
    {
      "cell_type": "code",
      "source": [
        "img_dir = '/content/drive/MyDrive/fin_project/data/upscaling'\n",
        "file_names = [img_dir + file for file in os.listdir(img_dir) if os.path.isfile(os.path.join(img_dir, file))]\n",
        "print(len(file_names))"
      ],
      "metadata": {
        "colab": {
          "base_uri": "https://localhost:8080/"
        },
        "id": "AAsVvC6wGAbC",
        "outputId": "2c2a6c97-a1db-4a72-fb7c-c74c42b45126"
      },
      "execution_count": null,
      "outputs": [
        {
          "output_type": "stream",
          "name": "stdout",
          "text": [
            "23029\n"
          ]
        }
      ]
    },
    {
      "cell_type": "code",
      "source": [
        "import shutil\n",
        "\n",
        "input_folder = \"/content/drive/MyDrive/fin_project/data/upscaling\"\n",
        "output_zip = \"/content/drive/My Drive/fin_project/data/origin.zip\"\n",
        "\n",
        "shutil.make_archive(output_zip.replace(\".zip\", \"\"), 'zip', root_dir=input_folder)"
      ],
      "metadata": {
        "id": "HmNnmCa1gZvm"
      },
      "execution_count": null,
      "outputs": []
    }
  ],
  "metadata": {
    "colab": {
      "provenance": [],
      "machine_shape": "hm"
    },
    "kernelspec": {
      "display_name": "Python 3",
      "name": "python3"
    },
    "language_info": {
      "name": "python"
    }
  },
  "nbformat": 4,
  "nbformat_minor": 0
}