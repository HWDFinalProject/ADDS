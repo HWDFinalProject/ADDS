{
  "nbformat": 4,
  "nbformat_minor": 0,
  "metadata": {
    "colab": {
      "provenance": [],
      "collapsed_sections": [
        "XGUdlU47iyIM",
        "xH9toW_ylWAq",
        "3a2QBhFvs3rW"
      ]
    },
    "kernelspec": {
      "name": "python3",
      "display_name": "Python 3"
    },
    "language_info": {
      "name": "python"
    }
  },
  "cells": [
    {
      "cell_type": "markdown",
      "source": [
        "# 구글 드라이브 마운트"
      ],
      "metadata": {
        "id": "WTCW5RbuaKv-"
      }
    },
    {
      "cell_type": "code",
      "source": [
        "from google.colab import drive\n",
        "drive.mount('/content/drive')"
      ],
      "metadata": {
        "colab": {
          "base_uri": "https://localhost:8080/"
        },
        "id": "XF9o9f6JaPXi",
        "outputId": "15159c7f-85e0-4d86-c549-eac614329dfd"
      },
      "execution_count": null,
      "outputs": [
        {
          "output_type": "stream",
          "name": "stdout",
          "text": [
            "Mounted at /content/drive\n"
          ]
        }
      ]
    },
    {
      "cell_type": "markdown",
      "source": [
        "# 데이터 불러오기"
      ],
      "metadata": {
        "id": "t8m4OpRUartO"
      }
    },
    {
      "cell_type": "code",
      "source": [
        "import zipfile\n",
        "import os\n",
        "\n",
        "input_path = '/content/mask.zip' # 마스크 압축 파일 경로\n",
        "output_dir = '/content/masks'\n",
        "\n",
        "os.makedirs(output_dir, exist_ok=True)\n",
        "\n",
        "with zipfile.ZipFile(input_path, 'r') as zip_ref:\n",
        "    zip_ref.extractall(output_dir)\n",
        "\n",
        "print(f\"압축 해제 경로: {output_dir}\")\n",
        "\n",
        "img_dir = output_dir + '/'\n",
        "file_names = [img_dir + file for file in os.listdir(img_dir) if os.path.isfile(os.path.join(img_dir, file))]\n",
        "print(len(file_names))"
      ],
      "metadata": {
        "colab": {
          "base_uri": "https://localhost:8080/"
        },
        "id": "eol1ryBEauwO",
        "outputId": "27eb5240-7b8a-450a-a4e3-803c4a12ddcd"
      },
      "execution_count": null,
      "outputs": [
        {
          "output_type": "stream",
          "name": "stdout",
          "text": [
            "압축 해제 경로: /content/masks\n",
            "10\n"
          ]
        }
      ]
    },
    {
      "cell_type": "markdown",
      "source": [
        "# 1. 좌하단의 좌표 구하기"
      ],
      "metadata": {
        "id": "3B7h-0O5C-lQ"
      }
    },
    {
      "cell_type": "code",
      "source": [
        "import math"
      ],
      "metadata": {
        "id": "wa8nr4spqZxj"
      },
      "execution_count": null,
      "outputs": []
    },
    {
      "cell_type": "markdown",
      "source": [
        "## EPSG:5186 -> EPSG:4326"
      ],
      "metadata": {
        "id": "XGUdlU47iyIM"
      }
    },
    {
      "cell_type": "code",
      "source": [
        "from pyproj import Transformer\n",
        "\n",
        "transformer = Transformer.from_crs(\"EPSG:5186\", \"EPSG:4326\", always_xy=True)\n",
        "\n",
        "x, y = 167420.630000005505281, 560847.391281746444292\n",
        "\n",
        "lon, lat = transformer.transform(x, y)\n",
        "\n",
        "print(f\"변환된 좌표: {lat, lon}\")"
      ],
      "metadata": {
        "colab": {
          "base_uri": "https://localhost:8080/"
        },
        "id": "hDQcE6mEHBRL",
        "outputId": "20178b99-6266-4085-9635-1dee5c0e6bc7"
      },
      "execution_count": null,
      "outputs": [
        {
          "output_type": "stream",
          "name": "stdout",
          "text": [
            "변환된 좌표: (37.64667441416647, 126.63083849106049)\n"
          ]
        }
      ]
    },
    {
      "cell_type": "markdown",
      "source": [
        "## 테스트용 중심좌표 계산"
      ],
      "metadata": {
        "id": "xH9toW_ylWAq"
      }
    },
    {
      "cell_type": "code",
      "source": [
        "lat, lon = 37.64676257230551, 126.63084094416728\n",
        "center_lat, center_lon = lat - (grid_lat / 2), lon + (grid_lon / 2)\n",
        "print(center_lat, center_lon)"
      ],
      "metadata": {
        "colab": {
          "base_uri": "https://localhost:8080/",
          "height": 183
        },
        "id": "PER03q0HlXeS",
        "outputId": "694a5342-ef09-47ed-fa8b-80555756ed3e"
      },
      "execution_count": null,
      "outputs": [
        {
          "output_type": "error",
          "ename": "NameError",
          "evalue": "name 'grid_lat' is not defined",
          "traceback": [
            "\u001b[0;31m---------------------------------------------------------------------------\u001b[0m",
            "\u001b[0;31mNameError\u001b[0m                                 Traceback (most recent call last)",
            "\u001b[0;32m<ipython-input-4-333cfa035f33>\u001b[0m in \u001b[0;36m<cell line: 0>\u001b[0;34m()\u001b[0m\n\u001b[1;32m      1\u001b[0m \u001b[0mlat\u001b[0m\u001b[0;34m,\u001b[0m \u001b[0mlon\u001b[0m \u001b[0;34m=\u001b[0m \u001b[0;36m37.64676257230551\u001b[0m\u001b[0;34m,\u001b[0m \u001b[0;36m126.63084094416728\u001b[0m\u001b[0;34m\u001b[0m\u001b[0;34m\u001b[0m\u001b[0m\n\u001b[0;32m----> 2\u001b[0;31m \u001b[0mcenter_lat\u001b[0m\u001b[0;34m,\u001b[0m \u001b[0mcenter_lon\u001b[0m \u001b[0;34m=\u001b[0m \u001b[0mlat\u001b[0m \u001b[0;34m-\u001b[0m \u001b[0;34m(\u001b[0m\u001b[0mgrid_lat\u001b[0m \u001b[0;34m/\u001b[0m \u001b[0;36m2\u001b[0m\u001b[0;34m)\u001b[0m\u001b[0;34m,\u001b[0m \u001b[0mlon\u001b[0m \u001b[0;34m+\u001b[0m \u001b[0;34m(\u001b[0m\u001b[0mgrid_lon\u001b[0m \u001b[0;34m/\u001b[0m \u001b[0;36m2\u001b[0m\u001b[0;34m)\u001b[0m\u001b[0;34m\u001b[0m\u001b[0;34m\u001b[0m\u001b[0m\n\u001b[0m\u001b[1;32m      3\u001b[0m \u001b[0mprint\u001b[0m\u001b[0;34m(\u001b[0m\u001b[0mcenter_lat\u001b[0m\u001b[0;34m,\u001b[0m \u001b[0mcenter_lon\u001b[0m\u001b[0;34m)\u001b[0m\u001b[0;34m\u001b[0m\u001b[0;34m\u001b[0m\u001b[0m\n",
            "\u001b[0;31mNameError\u001b[0m: name 'grid_lat' is not defined"
          ]
        }
      ]
    },
    {
      "cell_type": "markdown",
      "source": [
        "## 좌하단 좌표 계산"
      ],
      "metadata": {
        "id": "T9PG_EoHp4bQ"
      }
    },
    {
      "cell_type": "code",
      "source": [
        "center_lat, center_lon = 37.64441013987308, 126.63380821689455"
      ],
      "metadata": {
        "id": "IJ8lcXH3rcOO"
      },
      "execution_count": null,
      "outputs": []
    },
    {
      "cell_type": "code",
      "source": [
        "lat_radian = math.radians(center_lat)\n",
        "grid_real = 0.51 * 1024\n",
        "lat_dis = 111320\n",
        "lon_dis = lat_dis * math.cos(lat_radian)\n",
        "grid_lat = grid_real / lat_dis\n",
        "grid_lon = grid_real / lon_dis\n",
        "\n",
        "SW_lat, SW_lon = center_lat - (grid_lat / 2), center_lon - (grid_lon / 2)\n",
        "print(f\"좌하단 좌표: {SW_lat, SW_lon}\")"
      ],
      "metadata": {
        "colab": {
          "base_uri": "https://localhost:8080/"
        },
        "id": "Yuf6n09JqAFN",
        "outputId": "40160fd5-0136-4944-c9b3-82502ec4e20f"
      },
      "execution_count": null,
      "outputs": [
        {
          "output_type": "stream",
          "name": "stdout",
          "text": [
            "좌하단 좌표: (37.642064469732944, 126.63084582573511)\n"
          ]
        }
      ]
    },
    {
      "cell_type": "markdown",
      "source": [
        "# 2. 객체의 픽셀 추출"
      ],
      "metadata": {
        "id": "1YIfAsAADJuR"
      }
    },
    {
      "cell_type": "markdown",
      "source": [
        "## (테스트용)"
      ],
      "metadata": {
        "id": "3a2QBhFvs3rW"
      }
    },
    {
      "cell_type": "code",
      "source": [
        "import cv2\n",
        "import numpy as np\n",
        "from IPython.display import display, Image\n",
        "\n",
        "filename = \"/content/LC_AP_37607046_001_FGT_1024.tif\"\n",
        "\n",
        "img = cv2.imread(filename, cv2.IMREAD_GRAYSCALE)\n",
        "\n",
        "result = np.where(img == 10, 255, 0).astype(np.uint8)\n",
        "\n",
        "display(Image(data=cv2.imencode('.jpg', result)[1].tobytes()))\n",
        "\n",
        "output_filename = \"result.png\"\n",
        "cv2.imwrite(output_filename, result)"
      ],
      "metadata": {
        "colab": {
          "base_uri": "https://localhost:8080/",
          "height": 837
        },
        "id": "mTyd2ySFrWf6",
        "outputId": "229195e9-a128-427d-c634-791dd24b01d5"
      },
      "execution_count": null,
      "outputs": [
        {
          "output_type": "display_data",
          "data": {
            "image/jpeg": "[encoded data removed]",
            "text/plain": [
              "<IPython.core.display.Image object>"
            ]
          },
          "metadata": {}
        },
        {
          "output_type": "execute_result",
          "data": {
            "text/plain": [
              "True"
            ]
          },
          "metadata": {},
          "execution_count": 7
        }
      ]
    },
    {
      "cell_type": "markdown",
      "source": [
        "## 객체 선택"
      ],
      "metadata": {
        "id": "Qn-KJ0pJvzaL"
      }
    },
    {
      "cell_type": "code",
      "source": [
        "import cv2\n",
        "import numpy as np\n",
        "\n",
        "filename = \"result.png\"\n",
        "\n",
        "mask = cv2.imread(filename, cv2.IMREAD_GRAYSCALE)\n",
        "\n",
        "# 연결된 구성요소 분석\n",
        "num_labels, labels, stats, centroids = cv2.connectedComponentsWithStats(mask, connectivity=4)\n",
        "\n",
        "print(f\"총 객체 수: {num_labels - 1}\") # 0은 배경\n",
        "\n",
        "# for i in range(1, num_labels):\n",
        "#     print(f\"객체 {i}: 픽셀 개수 = {stats[i, cv2.CC_STAT_AREA]}, 중심 = {centroids[i]}\")\n",
        "\n",
        "selected_object = 1\n",
        "print(f\"객체 {selected_object}: 픽셀 개수 = {stats[selected_object, cv2.CC_STAT_AREA]}, 중심 = {centroids[selected_object]}\")\n",
        "# if selected_object >= num_labels or selected_object < 1:\n",
        "#     raise ValueError(f\"유효하지 않은 객체 번호입니다. 1 ~ {num_labels - 1} 사이에서 선택하세요.\")\n",
        "\n",
        "# # 마스크 생성\n",
        "# selected_mask = (labels == selected_object).astype(np.uint8) * 255\n",
        "\n",
        "# # # 픽셀 좌표 추출\n",
        "# # selected_pixels = np.column_stack(np.where(selected_mask > 0))\n",
        "# # print(f\"선택한 객체의 픽셀 좌표:\\n{selected_pixels}\")\n",
        "\n",
        "# # 선택한 객체 마스크 시각화\n",
        "# cv2.imwrite(\"selected_object_mask.png\", selected_mask)\n",
        "# print(\"선택한 객체의 마스크를 'selected_object_mask.png'로 저장했습니다.\")\n",
        "cen_x = [coord[0] for coord in centroids[1:]]\n",
        "cen_y = [coord[1] for coord in centroids[1:]]\n",
        "print(f\"({min(cen_x), min(cen_y)}, {max(cen_x), max(cen_y)})\")\n",
        "\n",
        "obj_point = (centroids[selected_object])"
      ],
      "metadata": {
        "colab": {
          "base_uri": "https://localhost:8080/"
        },
        "id": "kGPsOZlowG5b",
        "outputId": "4781bf34-8837-449b-e797-cf669c830bc8"
      },
      "execution_count": null,
      "outputs": [
        {
          "output_type": "stream",
          "name": "stdout",
          "text": [
            "총 객체 수: 48\n",
            "객체 1: 픽셀 개수 = 159, 중심 = [4.42138365 7.49685535]\n",
            "((4.421383647798742, 7.49685534591195), (1021.8695652173913, 1021.4415584415584))\n"
          ]
        }
      ]
    },
    {
      "cell_type": "markdown",
      "source": [
        "# 3. 객체 픽셀 - 좌하단 픽셀의 거리 계산"
      ],
      "metadata": {
        "id": "yPWRSIC7DLcZ"
      }
    },
    {
      "cell_type": "markdown",
      "source": [
        "유클리드 거리 공식 사용"
      ],
      "metadata": {
        "id": "Y8BrW0GB5Y-C"
      }
    },
    {
      "cell_type": "code",
      "source": [
        "import math\n",
        "\n",
        "SW_point = (0, 1024)\n",
        "dis = math.sqrt((obj_point[0] - SW_point[0])**2 + (obj_point[1] - SW_point[1])**2)\n",
        "print(f\"좌하단까지의 거리: {dis}\")"
      ],
      "metadata": {
        "colab": {
          "base_uri": "https://localhost:8080/"
        },
        "id": "f61EvpIV5AMs",
        "outputId": "b6938d25-bc7f-43a1-ae34-9f5080ae8e39"
      },
      "execution_count": null,
      "outputs": [
        {
          "output_type": "stream",
          "name": "stdout",
          "text": [
            "좌하단까지의 거리: 1016.5127602371801\n"
          ]
        }
      ]
    },
    {
      "cell_type": "markdown",
      "source": [
        "# 4. 픽셀 간 거리를 실제 거리로 환산"
      ],
      "metadata": {
        "id": "UKRVBxeYDRJ8"
      }
    },
    {
      "cell_type": "code",
      "source": [
        "real_dis = dis * 0.51\n",
        "print(f\"실제 거리: {real_dis}m\")"
      ],
      "metadata": {
        "colab": {
          "base_uri": "https://localhost:8080/"
        },
        "id": "8p6KcexJ57IT",
        "outputId": "5e5b688f-d45c-4f9e-f095-aa7855af4c6d"
      },
      "execution_count": null,
      "outputs": [
        {
          "output_type": "stream",
          "name": "stdout",
          "text": [
            "실제 거리: 518.4215077209619m\n"
          ]
        }
      ]
    },
    {
      "cell_type": "markdown",
      "source": [
        "# 5. Inverse-Haversine 공식 적용"
      ],
      "metadata": {
        "id": "1zcudmceDTs7"
      }
    },
    {
      "cell_type": "markdown",
      "source": [
        "![image.png](data:image/png;base64,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)"
      ],
      "metadata": {
        "id": "7-TQE-Yh7KYK"
      }
    },
    {
      "cell_type": "markdown",
      "source": [
        "## 방위각 구하기"
      ],
      "metadata": {
        "id": "dZJUH8SV7E_6"
      }
    },
    {
      "cell_type": "markdown",
      "source": [
        "* 벡터의 내적과 각도 계산\n",
        "\n",
        "$$ cos\\theta = \\frac{v_1 \\cdot v_2}{\\Vert v_1 \\Vert \\Vert v_2 \\Vert}$$\n",
        "\n",
        "> $$v_1 \\cdot v_2 = (x_2 - x_1) \\cdot (x_4 - x_3) + (y_2 - y_1) \\cdot (y_4 - y_3)$$\n",
        "\n",
        "> $$\\Vert v_1 \\Vert = \\sqrt{(x_2 - x_1)^2 + (y_2 - y_1)^2}$$\n",
        "\n",
        "> $$\\Vert v_2 \\Vert = \\sqrt{(x_4 - x_3)^2 + (y_4 - y_3)^2}$$"
      ],
      "metadata": {
        "id": "BZIBt3l5QCuS"
      }
    },
    {
      "cell_type": "code",
      "source": [
        "import math\n",
        "\n",
        "def calculate_bearing(x1, y1, x2, y2, x3, y3, x4, y4):\n",
        "    # 벡터 1: (x1, y1) -> (x2, y2)\n",
        "    v1_x, v1_y = x2 - x1, y2 - y1\n",
        "    # 벡터 2: (x3, y3) -> (x4, y4)\n",
        "    v2_x, v2_y = x4 - x3, y4 - y3\n",
        "\n",
        "    dot_product = v1_x * v2_x + v1_y * v2_y\n",
        "\n",
        "    mag_v1 = math.sqrt(v1_x**2 + v1_y**2)\n",
        "    mag_v2 = math.sqrt(v2_x**2 + v2_y**2)\n",
        "\n",
        "    cos_theta = dot_product / (mag_v1 * mag_v2)\n",
        "    cos_theta = max(-1.0, min(1.0, cos_theta))\n",
        "\n",
        "    angle_radians = math.acos(cos_theta)\n",
        "    angle_degrees = math.degrees(angle_radians)\n",
        "\n",
        "    if angle_degrees > 90:\n",
        "        angle_degrees = 180 - angle_degrees\n",
        "\n",
        "    return angle_degrees\n",
        "\n",
        "x1, y1 = 0, 1024\n",
        "x2, y2 = 0, 0\n",
        "x3, y3 = 0, 1024\n",
        "x4, y4 = 4.42138365, 7.49685535\n",
        "\n",
        "bearing = calculate_bearing(x1, y1, x2, y2, x3, y3, x4, y4)\n",
        "print(f\"방위각: {bearing:.2f}°\")"
      ],
      "metadata": {
        "colab": {
          "base_uri": "https://localhost:8080/"
        },
        "id": "Nhak2AAU6ly2",
        "outputId": "9fe2b430-6408-417c-bb64-ffea614d5efc"
      },
      "execution_count": null,
      "outputs": [
        {
          "output_type": "stream",
          "name": "stdout",
          "text": [
            "방위각: 0.25°\n"
          ]
        }
      ]
    },
    {
      "cell_type": "markdown",
      "source": [
        "haversine은 각도를 도 단위가 아닌 라디안으로 사용함\n",
        "*수정 필요*"
      ],
      "metadata": {
        "id": "LxuPbgzEdOqS"
      }
    },
    {
      "cell_type": "markdown",
      "source": [
        "## 공식 적용"
      ],
      "metadata": {
        "id": "6sget3Qe7PYy"
      }
    },
    {
      "cell_type": "code",
      "source": [
        "import math\n",
        "\n",
        "def reverse_haversine(lat, lon, distance, bearing):\n",
        "    # 지구 반지름 (meters)\n",
        "    R = 6371000\n",
        "\n",
        "    lat_rad = math.radians(lat)\n",
        "    lon_rad = math.radians(lon)\n",
        "    bearing_rad = math.radians(bearing)\n",
        "\n",
        "    new_lat_rad = math.asin(\n",
        "        math.sin(lat_rad) * math.cos(distance / R) +\n",
        "        math.cos(lat_rad) * math.sin(distance / R) * math.cos(bearing_rad)\n",
        "    )\n",
        "\n",
        "    new_lon_rad = lon_rad + math.atan2(\n",
        "        math.sin(bearing_rad) * math.sin(distance / R) * math.cos(lat_rad),\n",
        "        math.cos(distance / R) - math.sin(lat_rad) * math.sin(new_lat_rad)\n",
        "    )\n",
        "\n",
        "    new_lat = math.degrees(new_lat_rad)\n",
        "    new_lon = math.degrees(new_lon_rad)\n",
        "\n",
        "    return new_lat, new_lon\n",
        "\n",
        "end_lat, end_lon = reverse_haversine(SW_lat, SW_lon, real_dis, bearing)\n",
        "print(f\"도착지 좌표: {end_lat, end_lon}\")"
      ],
      "metadata": {
        "colab": {
          "base_uri": "https://localhost:8080/"
        },
        "id": "Uj6nnbdv7Sip",
        "outputId": "435b158d-314e-407b-ac12-a0b1fc40e193"
      },
      "execution_count": null,
      "outputs": [
        {
          "output_type": "stream",
          "name": "stdout",
          "text": [
            "도착지 좌표: (37.64672670225658, 126.63087143708164)\n"
          ]
        }
      ]
    },
    {
      "cell_type": "markdown",
      "source": [
        "37.64667441416647, 126.63083849106049\n"
      ],
      "metadata": {
        "id": "6YtMOivSWseP"
      }
    },
    {
      "cell_type": "markdown",
      "source": [
        "# 6. 좌표로 주소 알아내기"
      ],
      "metadata": {
        "id": "boyHiyYhC5aI"
      }
    },
    {
      "cell_type": "markdown",
      "source": [
        "모델이 탐지한 건물의 픽셀 지점을 보고 위/경도를 알아낸 뒤, 해당 좌표를 주소로 변환하는 과정 필요"
      ],
      "metadata": {
        "id": "GtFmvsj25nAE"
      }
    },
    {
      "cell_type": "markdown",
      "source": [
        "## 테스트"
      ],
      "metadata": {
        "id": "fXbVqFUiKQbV"
      }
    },
    {
      "cell_type": "code",
      "execution_count": null,
      "metadata": {
        "colab": {
          "base_uri": "https://localhost:8080/",
          "height": 89
        },
        "id": "ILxr8KNS5IcP",
        "outputId": "25e98812-c99a-44be-c250-4c6185cb17fc"
      },
      "outputs": [
        {
          "output_type": "execute_result",
          "data": {
            "text/plain": [
              "    latitude   longitude                                            address\n",
              "0  37.646733  126.630841  미태리김포카림애비뉴점, 김포한강4로, 구래동, 양곡리, 김포시, 경기도, 10066..."
            ],
            "text/html": [
              "\n",
              "  <div id=\"df-f868643c-4866-48a2-9273-e5ac4b26a4ca\" class=\"colab-df-container\">\n",
              "    <div>\n",
              "<style scoped>\n",
              "    .dataframe tbody tr th:only-of-type {\n",
              "        vertical-align: middle;\n",
              "    }\n",
              "\n",
              "    .dataframe tbody tr th {\n",
              "        vertical-align: top;\n",
              "    }\n",
              "\n",
              "    .dataframe thead th {\n",
              "        text-align: right;\n",
              "    }\n",
              "</style>\n",
              "<table border=\"1\" class=\"dataframe\">\n",
              "  <thead>\n",
              "    <tr style=\"text-align: right;\">\n",
              "      <th></th>\n",
              "      <th>latitude</th>\n",
              "      <th>longitude</th>\n",
              "      <th>address</th>\n",
              "    </tr>\n",
              "  </thead>\n",
              "  <tbody>\n",
              "    <tr>\n",
              "      <th>0</th>\n",
              "      <td>37.646733</td>\n",
              "      <td>126.630841</td>\n",
              "      <td>미태리김포카림애비뉴점, 김포한강4로, 구래동, 양곡리, 김포시, 경기도, 10066...</td>\n",
              "    </tr>\n",
              "  </tbody>\n",
              "</table>\n",
              "</div>\n",
              "    <div class=\"colab-df-buttons\">\n",
              "\n",
              "  <div class=\"colab-df-container\">\n",
              "    <button class=\"colab-df-convert\" onclick=\"convertToInteractive('df-f868643c-4866-48a2-9273-e5ac4b26a4ca')\"\n",
              "            title=\"Convert this dataframe to an interactive table.\"\n",
              "            style=\"display:none;\">\n",
              "\n",
              "  <svg xmlns=\"http://www.w3.org/2000/svg\" height=\"24px\" viewBox=\"0 -960 960 960\">\n",
              "    <path d=\"M120-120v-720h720v720H120Zm60-500h600v-160H180v160Zm220 220h160v-160H400v160Zm0 220h160v-160H400v160ZM180-400h160v-160H180v160Zm440 0h160v-160H620v160ZM180-180h160v-160H180v160Zm440 0h160v-160H620v160Z\"/>\n",
              "  </svg>\n",
              "    </button>\n",
              "\n",
              "  <style>\n",
              "    .colab-df-container {\n",
              "      display:flex;\n",
              "      gap: 12px;\n",
              "    }\n",
              "\n",
              "    .colab-df-convert {\n",
              "      background-color: #E8F0FE;\n",
              "      border: none;\n",
              "      border-radius: 50%;\n",
              "      cursor: pointer;\n",
              "      display: none;\n",
              "      fill: #1967D2;\n",
              "      height: 32px;\n",
              "      padding: 0 0 0 0;\n",
              "      width: 32px;\n",
              "    }\n",
              "\n",
              "    .colab-df-convert:hover {\n",
              "      background-color: #E2EBFA;\n",
              "      box-shadow: 0px 1px 2px rgba(60, 64, 67, 0.3), 0px 1px 3px 1px rgba(60, 64, 67, 0.15);\n",
              "      fill: #174EA6;\n",
              "    }\n",
              "\n",
              "    .colab-df-buttons div {\n",
              "      margin-bottom: 4px;\n",
              "    }\n",
              "\n",
              "    [theme=dark] .colab-df-convert {\n",
              "      background-color: #3B4455;\n",
              "      fill: #D2E3FC;\n",
              "    }\n",
              "\n",
              "    [theme=dark] .colab-df-convert:hover {\n",
              "      background-color: #434B5C;\n",
              "      box-shadow: 0px 1px 3px 1px rgba(0, 0, 0, 0.15);\n",
              "      filter: drop-shadow(0px 1px 2px rgba(0, 0, 0, 0.3));\n",
              "      fill: #FFFFFF;\n",
              "    }\n",
              "  </style>\n",
              "\n",
              "    <script>\n",
              "      const buttonEl =\n",
              "        document.querySelector('#df-f868643c-4866-48a2-9273-e5ac4b26a4ca button.colab-df-convert');\n",
              "      buttonEl.style.display =\n",
              "        google.colab.kernel.accessAllowed ? 'block' : 'none';\n",
              "\n",
              "      async function convertToInteractive(key) {\n",
              "        const element = document.querySelector('#df-f868643c-4866-48a2-9273-e5ac4b26a4ca');\n",
              "        const dataTable =\n",
              "          await google.colab.kernel.invokeFunction('convertToInteractive',\n",
              "                                                    [key], {});\n",
              "        if (!dataTable) return;\n",
              "\n",
              "        const docLinkHtml = 'Like what you see? Visit the ' +\n",
              "          '<a target=\"_blank\" href=https://colab.research.google.com/notebooks/data_table.ipynb>data table notebook</a>'\n",
              "          + ' to learn more about interactive tables.';\n",
              "        element.innerHTML = '';\n",
              "        dataTable['output_type'] = 'display_data';\n",
              "        await google.colab.output.renderOutput(dataTable, element);\n",
              "        const docLink = document.createElement('div');\n",
              "        docLink.innerHTML = docLinkHtml;\n",
              "        element.appendChild(docLink);\n",
              "      }\n",
              "    </script>\n",
              "  </div>\n",
              "\n",
              "\n",
              "  <div id=\"id_14db962e-bfed-4464-a323-a27dbdc3a3fe\">\n",
              "    <style>\n",
              "      .colab-df-generate {\n",
              "        background-color: #E8F0FE;\n",
              "        border: none;\n",
              "        border-radius: 50%;\n",
              "        cursor: pointer;\n",
              "        display: none;\n",
              "        fill: #1967D2;\n",
              "        height: 32px;\n",
              "        padding: 0 0 0 0;\n",
              "        width: 32px;\n",
              "      }\n",
              "\n",
              "      .colab-df-generate:hover {\n",
              "        background-color: #E2EBFA;\n",
              "        box-shadow: 0px 1px 2px rgba(60, 64, 67, 0.3), 0px 1px 3px 1px rgba(60, 64, 67, 0.15);\n",
              "        fill: #174EA6;\n",
              "      }\n",
              "\n",
              "      [theme=dark] .colab-df-generate {\n",
              "        background-color: #3B4455;\n",
              "        fill: #D2E3FC;\n",
              "      }\n",
              "\n",
              "      [theme=dark] .colab-df-generate:hover {\n",
              "        background-color: #434B5C;\n",
              "        box-shadow: 0px 1px 3px 1px rgba(0, 0, 0, 0.15);\n",
              "        filter: drop-shadow(0px 1px 2px rgba(0, 0, 0, 0.3));\n",
              "        fill: #FFFFFF;\n",
              "      }\n",
              "    </style>\n",
              "    <button class=\"colab-df-generate\" onclick=\"generateWithVariable('gdf')\"\n",
              "            title=\"Generate code using this dataframe.\"\n",
              "            style=\"display:none;\">\n",
              "\n",
              "  <svg xmlns=\"http://www.w3.org/2000/svg\" height=\"24px\"viewBox=\"0 0 24 24\"\n",
              "       width=\"24px\">\n",
              "    <path d=\"M7,19H8.4L18.45,9,17,7.55,7,17.6ZM5,21V16.75L18.45,3.32a2,2,0,0,1,2.83,0l1.4,1.43a1.91,1.91,0,0,1,.58,1.4,1.91,1.91,0,0,1-.58,1.4L9.25,21ZM18.45,9,17,7.55Zm-12,3A5.31,5.31,0,0,0,4.9,8.1,5.31,5.31,0,0,0,1,6.5,5.31,5.31,0,0,0,4.9,4.9,5.31,5.31,0,0,0,6.5,1,5.31,5.31,0,0,0,8.1,4.9,5.31,5.31,0,0,0,12,6.5,5.46,5.46,0,0,0,6.5,12Z\"/>\n",
              "  </svg>\n",
              "    </button>\n",
              "    <script>\n",
              "      (() => {\n",
              "      const buttonEl =\n",
              "        document.querySelector('#id_14db962e-bfed-4464-a323-a27dbdc3a3fe button.colab-df-generate');\n",
              "      buttonEl.style.display =\n",
              "        google.colab.kernel.accessAllowed ? 'block' : 'none';\n",
              "\n",
              "      buttonEl.onclick = () => {\n",
              "        google.colab.notebook.generateWithVariable('gdf');\n",
              "      }\n",
              "      })();\n",
              "    </script>\n",
              "  </div>\n",
              "\n",
              "    </div>\n",
              "  </div>\n"
            ],
            "application/vnd.google.colaboratory.intrinsic+json": {
              "type": "dataframe",
              "variable_name": "gdf",
              "summary": "{\n  \"name\": \"gdf\",\n  \"rows\": 1,\n  \"fields\": [\n    {\n      \"column\": \"latitude\",\n      \"properties\": {\n        \"dtype\": \"number\",\n        \"std\": null,\n        \"min\": 37.64673346454887,\n        \"max\": 37.64673346454887,\n        \"num_unique_values\": 1,\n        \"samples\": [\n          37.64673346454887\n        ],\n        \"semantic_type\": \"\",\n        \"description\": \"\"\n      }\n    },\n    {\n      \"column\": \"longitude\",\n      \"properties\": {\n        \"dtype\": \"number\",\n        \"std\": null,\n        \"min\": 126.63084139693287,\n        \"max\": 126.63084139693287,\n        \"num_unique_values\": 1,\n        \"samples\": [\n          126.63084139693287\n        ],\n        \"semantic_type\": \"\",\n        \"description\": \"\"\n      }\n    },\n    {\n      \"column\": \"address\",\n      \"properties\": {\n        \"dtype\": \"string\",\n        \"num_unique_values\": 1,\n        \"samples\": [\n          \"\\ubbf8\\ud0dc\\ub9ac\\uae40\\ud3ec\\uce74\\ub9bc\\uc560\\ube44\\ub274\\uc810, \\uae40\\ud3ec\\ud55c\\uac154\\ub85c, \\uad6c\\ub798\\ub3d9, \\uc591\\uace1\\ub9ac, \\uae40\\ud3ec\\uc2dc, \\uacbd\\uae30\\ub3c4, 10066, \\ub300\\ud55c\\ubbfc\\uad6d\"\n        ],\n        \"semantic_type\": \"\",\n        \"description\": \"\"\n      }\n    }\n  ]\n}"
            }
          },
          "metadata": {},
          "execution_count": 14
        }
      ],
      "source": [
        "import geopandas as gpd\n",
        "from geopy.geocoders import Nominatim\n",
        "\n",
        "geolocator = Nominatim(user_agent=\"South Korea\")\n",
        "\n",
        "data = {\n",
        "    \"latitude\": [37.64673346454887],\n",
        "    \"longitude\": [126.63084139693287]\n",
        "}\n",
        "gdf = gpd.GeoDataFrame(data)\n",
        "\n",
        "def reverse_geocode(lat, lon):\n",
        "    try:\n",
        "        location = geolocator.reverse((lat, lon), timeout=10)\n",
        "        return location.address if location else None\n",
        "    except Exception as e:\n",
        "        print(f\"Error: {e}\")\n",
        "        return None\n",
        "\n",
        "gdf[\"address\"] = gdf.apply(lambda row: reverse_geocode(row[\"latitude\"], row[\"longitude\"]), axis=1)\n",
        "\n",
        "gdf"
      ]
    },
    {
      "cell_type": "code",
      "source": [
        "url = 'https://maps.googleapis.com/maps/api/geocode/json?latlng=40.714224,-73.961452&key=YOUR_API_KEY'"
      ],
      "metadata": {
        "id": "P_SNeSuMpnjQ"
      },
      "execution_count": null,
      "outputs": []
    },
    {
      "cell_type": "code",
      "source": [
        "import requests\n",
        "\n",
        "API_KEY = ''\n",
        "\n",
        "lat = 37.64673346454887\n",
        "lon = 126.63084139693287\n",
        "\n",
        "url = f'https://maps.googleapis.com/maps/api/geocode/json?latlng={lat},{lon}&key={API_KEY}'\n",
        "\n",
        "res = requests.get(url)\n",
        "data = res.json()\n",
        "\n",
        "if data['status'] == 'OK':\n",
        "  print(data)\n",
        "else:\n",
        "  print(\"API 요청 실패\")"
      ],
      "metadata": {
        "colab": {
          "base_uri": "https://localhost:8080/"
        },
        "id": "9MS0UvaCqC1Z",
        "outputId": "0d0a4a1b-34db-4f6a-8cfe-a8d28b365684"
      },
      "execution_count": null,
      "outputs": [
        {
          "output_type": "stream",
          "name": "stdout",
          "text": [
            "{'plus_code': {'compound_code': 'JJWJ+M8W Gimpo-si, Gyeonggi-do, South Korea', 'global_code': '8Q98JJWJ+M8W'}, 'results': [{'address_components': [{'long_name': 'South Korea', 'short_name': 'KR', 'types': ['country', 'political']}, {'long_name': 'Gimpo-si', 'short_name': 'Gimpo-si', 'types': ['locality', 'political']}, {'long_name': '10066', 'short_name': '10066', 'types': ['postal_code']}], 'formatted_address': 'South Korea, Gimpo-si, 반도4차상가2층 2071호 김포한강4로 487 김포시 경기도 KR', 'geometry': {'location': {'lat': 37.6465448, 'lng': 126.6309663}, 'location_type': 'GEOMETRIC_CENTER', 'viewport': {'northeast': {'lat': 37.6478937802915, 'lng': 126.6323152802915}, 'southwest': {'lat': 37.6451958197085, 'lng': 126.6296173197085}}}, 'place_id': 'ChIJG8nbkJ-HfDURrYNk8zGiODk', 'plus_code': {'compound_code': 'JJWJ+J9 Gimpo-si, Gyeonggi-do, South Korea', 'global_code': '8Q98JJWJ+J9'}, 'types': ['dentist', 'establishment', 'health', 'point_of_interest']}, {'address_components': [{'long_name': '6928-1', 'short_name': '6928-1', 'types': ['premise']}, {'long_name': 'Gurae-dong', 'short_name': 'Gurae-dong', 'types': ['political', 'sublocality', 'sublocality_level_2']}, {'long_name': 'Gimpo-si', 'short_name': 'Gimpo-si', 'types': ['locality', 'political']}, {'long_name': 'Gyeonggi-do', 'short_name': 'Gyeonggi-do', 'types': ['administrative_area_level_1', 'political']}, {'long_name': 'South Korea', 'short_name': 'KR', 'types': ['country', 'political']}], 'formatted_address': '6928-1 Gurae-dong, Gimpo-si, Gyeonggi-do, South Korea', 'geometry': {'location': {'lat': 37.6471715, 'lng': 126.6309623}, 'location_type': 'ROOFTOP', 'viewport': {'northeast': {'lat': 37.6485204802915, 'lng': 126.6323112802915}, 'southwest': {'lat': 37.6458225197085, 'lng': 126.6296133197085}}}, 'place_id': 'ChIJZfcbnkqHfDURzicQMFyjpe4', 'plus_code': {'compound_code': 'JJWJ+V9 Gimpo-si, Gyeonggi-do, South Korea', 'global_code': '8Q98JJWJ+V9'}, 'types': ['street_address']}, {'address_components': [{'long_name': 'JJWJ+M8', 'short_name': 'JJWJ+M8', 'types': ['plus_code']}, {'long_name': 'Gimpo-si', 'short_name': 'Gimpo-si', 'types': ['locality', 'political']}, {'long_name': 'Gyeonggi-do', 'short_name': 'Gyeonggi-do', 'types': ['administrative_area_level_1', 'political']}, {'long_name': 'South Korea', 'short_name': 'KR', 'types': ['country', 'political']}], 'formatted_address': 'JJWJ+M8 Gimpo-si, Gyeonggi-do, South Korea', 'geometry': {'bounds': {'northeast': {'lat': 37.64675, 'lng': 126.630875}, 'southwest': {'lat': 37.646625, 'lng': 126.63075}}, 'location': {'lat': 37.6467335, 'lng': 126.6308414}, 'location_type': 'GEOMETRIC_CENTER', 'viewport': {'northeast': {'lat': 37.64803648029149, 'lng': 126.6321614802915}, 'southwest': {'lat': 37.6453385197085, 'lng': 126.6294635197085}}}, 'place_id': 'GhIJIt3PKcjSQkARn32btF-oX0A', 'plus_code': {'compound_code': 'JJWJ+M8 Gimpo-si, Gyeonggi-do, South Korea', 'global_code': '8Q98JJWJ+M8'}, 'types': ['plus_code']}, {'address_components': [{'long_name': '구래동', 'short_name': '구래동', 'types': ['political', 'sublocality', 'sublocality_level_2']}, {'long_name': '김포시', 'short_name': '김포시', 'types': ['locality', 'political']}, {'long_name': '경기도', 'short_name': '경기도', 'types': ['administrative_area_level_1', 'political']}, {'long_name': 'South Korea', 'short_name': 'KR', 'types': ['country', 'political']}], 'formatted_address': 'South Korea, 경기도 김포시 구래동', 'geometry': {'bounds': {'northeast': {'lat': 37.6513709, 'lng': 126.6356755}, 'southwest': {'lat': 37.6358998, 'lng': 126.6175682}}, 'location': {'lat': 37.6446147, 'lng': 126.626553}, 'location_type': 'APPROXIMATE', 'viewport': {'northeast': {'lat': 37.6513709, 'lng': 126.6356755}, 'southwest': {'lat': 37.6358998, 'lng': 126.6175682}}}, 'place_id': 'ChIJyU0gs7WAfDURi4xsJnBcVvE', 'types': ['political', 'sublocality', 'sublocality_level_2']}, {'address_components': [{'long_name': 'Gimpohangang 4-ro', 'short_name': 'Gimpohangang 4-ro', 'types': ['political', 'sublocality', 'sublocality_level_4']}, {'long_name': 'Gimpo-si', 'short_name': 'Gimpo-si', 'types': ['locality', 'political']}, {'long_name': 'Gyeonggi-do', 'short_name': 'Gyeonggi-do', 'types': ['administrative_area_level_1', 'political']}, {'long_name': 'South Korea', 'short_name': 'KR', 'types': ['country', 'political']}], 'formatted_address': 'Gimpohangang 4-ro, Gimpo-si, Gyeonggi-do, South Korea', 'geometry': {'bounds': {'northeast': {'lat': 37.6501931, 'lng': 126.6789299}, 'southwest': {'lat': 37.6394739, 'lng': 126.6205237}}, 'location': {'lat': 37.64518890000001, 'lng': 126.6506697}, 'location_type': 'APPROXIMATE', 'viewport': {'northeast': {'lat': 37.6501931, 'lng': 126.6789299}, 'southwest': {'lat': 37.6394739, 'lng': 126.6205237}}}, 'place_id': 'ChIJKRneN8SGfDURlAHd-0Xfz2g', 'types': ['political', 'sublocality', 'sublocality_level_4']}, {'address_components': [{'long_name': 'Gimpo-si', 'short_name': 'Gimpo-si', 'types': ['locality', 'political']}, {'long_name': 'Gyeonggi-do', 'short_name': 'Gyeonggi-do', 'types': ['administrative_area_level_1', 'political']}, {'long_name': 'South Korea', 'short_name': 'KR', 'types': ['country', 'political']}], 'formatted_address': 'Gimpo-si, Gyeonggi-do, South Korea', 'geometry': {'bounds': {'northeast': {'lat': 37.7828864, 'lng': 126.8028091}, 'southwest': {'lat': 37.5795859, 'lng': 126.5170575}}, 'location': {'lat': 37.6593806, 'lng': 126.5930681}, 'location_type': 'APPROXIMATE', 'viewport': {'northeast': {'lat': 37.7828864, 'lng': 126.8028091}, 'southwest': {'lat': 37.5795859, 'lng': 126.5170575}}}, 'place_id': 'ChIJJY4Cmk6GfDURSOGVqk7LIrY', 'types': ['locality', 'political']}, {'address_components': [{'long_name': 'Gyeonggi-do', 'short_name': 'Gyeonggi-do', 'types': ['administrative_area_level_1', 'political']}, {'long_name': 'South Korea', 'short_name': 'KR', 'types': ['country', 'political']}], 'formatted_address': 'Gyeonggi-do, South Korea', 'geometry': {'bounds': {'northeast': {'lat': 38.2814437, 'lng': 127.848123}, 'southwest': {'lat': 36.8937812, 'lng': 126.380031}}, 'location': {'lat': 37.4142849, 'lng': 127.4681396}, 'location_type': 'APPROXIMATE', 'viewport': {'northeast': {'lat': 38.2814437, 'lng': 127.848123}, 'southwest': {'lat': 36.8937812, 'lng': 126.380031}}}, 'place_id': 'ChIJjbZ-5eR5fDURwrX21pgfDAE', 'types': ['administrative_area_level_1', 'political']}, {'address_components': [{'long_name': 'South Korea', 'short_name': 'KR', 'types': ['country', 'political']}], 'formatted_address': 'South Korea', 'geometry': {'bounds': {'northeast': {'lat': 38.63400000000001, 'lng': 131.1603}, 'southwest': {'lat': 33.0041, 'lng': 124.5863}}, 'location': {'lat': 35.907757, 'lng': 127.766922}, 'location_type': 'APPROXIMATE', 'viewport': {'northeast': {'lat': 38.63400000000001, 'lng': 131.1603}, 'southwest': {'lat': 33.0041, 'lng': 124.5863}}}, 'place_id': 'ChIJm7oRy-tVZDURS9uIugCbJJE', 'types': ['country', 'political']}], 'status': 'OK'}\n"
          ]
        }
      ]
    },
    {
      "cell_type": "code",
      "source": [
        "import json"
      ],
      "metadata": {
        "id": "VaUTjh9hthvv"
      },
      "execution_count": null,
      "outputs": []
    },
    {
      "cell_type": "code",
      "source": [
        "data['results'][0]['formatted_address']"
      ],
      "metadata": {
        "colab": {
          "base_uri": "https://localhost:8080/",
          "height": 35
        },
        "id": "jMSEeEtktlsU",
        "outputId": "9cf4ce8e-1e67-4a48-919d-440bb0d171d8"
      },
      "execution_count": null,
      "outputs": [
        {
          "output_type": "execute_result",
          "data": {
            "text/plain": [
              "'South Korea, Gimpo-si, 반도4차상가2층 2071호 김포한강4로 487 김포시 경기도 KR'"
            ],
            "application/vnd.google.colaboratory.intrinsic+json": {
              "type": "string"
            }
          },
          "metadata": {},
          "execution_count": 21
        }
      ]
    },
    {
      "cell_type": "code",
      "source": [
        "pretty_json = json.dumps(data, indent = 4, ensure_ascii = False)\n",
        "print(pretty_json)"
      ],
      "metadata": {
        "colab": {
          "base_uri": "https://localhost:8080/"
        },
        "id": "huRgd8SAtZz_",
        "outputId": "e36acd81-038c-452b-abe3-2dbddb30393f"
      },
      "execution_count": null,
      "outputs": [
        {
          "output_type": "stream",
          "name": "stdout",
          "text": [
            "{\n",
            "    \"plus_code\": {\n",
            "        \"compound_code\": \"JJWJ+M8W Gimpo-si, Gyeonggi-do, South Korea\",\n",
            "        \"global_code\": \"8Q98JJWJ+M8W\"\n",
            "    },\n",
            "    \"results\": [\n",
            "        {\n",
            "            \"address_components\": [\n",
            "                {\n",
            "                    \"long_name\": \"South Korea\",\n",
            "                    \"short_name\": \"KR\",\n",
            "                    \"types\": [\n",
            "                        \"country\",\n",
            "                        \"political\"\n",
            "                    ]\n",
            "                },\n",
            "                {\n",
            "                    \"long_name\": \"Gimpo-si\",\n",
            "                    \"short_name\": \"Gimpo-si\",\n",
            "                    \"types\": [\n",
            "                        \"locality\",\n",
            "                        \"political\"\n",
            "                    ]\n",
            "                },\n",
            "                {\n",
            "                    \"long_name\": \"10066\",\n",
            "                    \"short_name\": \"10066\",\n",
            "                    \"types\": [\n",
            "                        \"postal_code\"\n",
            "                    ]\n",
            "                }\n",
            "            ],\n",
            "            \"formatted_address\": \"South Korea, Gimpo-si, 반도4차상가2층 2071호 김포한강4로 487 김포시 경기도 KR\",\n",
            "            \"geometry\": {\n",
            "                \"location\": {\n",
            "                    \"lat\": 37.6465448,\n",
            "                    \"lng\": 126.6309663\n",
            "                },\n",
            "                \"location_type\": \"GEOMETRIC_CENTER\",\n",
            "                \"viewport\": {\n",
            "                    \"northeast\": {\n",
            "                        \"lat\": 37.6478937802915,\n",
            "                        \"lng\": 126.6323152802915\n",
            "                    },\n",
            "                    \"southwest\": {\n",
            "                        \"lat\": 37.6451958197085,\n",
            "                        \"lng\": 126.6296173197085\n",
            "                    }\n",
            "                }\n",
            "            },\n",
            "            \"place_id\": \"ChIJG8nbkJ-HfDURrYNk8zGiODk\",\n",
            "            \"plus_code\": {\n",
            "                \"compound_code\": \"JJWJ+J9 Gimpo-si, Gyeonggi-do, South Korea\",\n",
            "                \"global_code\": \"8Q98JJWJ+J9\"\n",
            "            },\n",
            "            \"types\": [\n",
            "                \"dentist\",\n",
            "                \"establishment\",\n",
            "                \"health\",\n",
            "                \"point_of_interest\"\n",
            "            ]\n",
            "        },\n",
            "        {\n",
            "            \"address_components\": [\n",
            "                {\n",
            "                    \"long_name\": \"6928-1\",\n",
            "                    \"short_name\": \"6928-1\",\n",
            "                    \"types\": [\n",
            "                        \"premise\"\n",
            "                    ]\n",
            "                },\n",
            "                {\n",
            "                    \"long_name\": \"Gurae-dong\",\n",
            "                    \"short_name\": \"Gurae-dong\",\n",
            "                    \"types\": [\n",
            "                        \"political\",\n",
            "                        \"sublocality\",\n",
            "                        \"sublocality_level_2\"\n",
            "                    ]\n",
            "                },\n",
            "                {\n",
            "                    \"long_name\": \"Gimpo-si\",\n",
            "                    \"short_name\": \"Gimpo-si\",\n",
            "                    \"types\": [\n",
            "                        \"locality\",\n",
            "                        \"political\"\n",
            "                    ]\n",
            "                },\n",
            "                {\n",
            "                    \"long_name\": \"Gyeonggi-do\",\n",
            "                    \"short_name\": \"Gyeonggi-do\",\n",
            "                    \"types\": [\n",
            "                        \"administrative_area_level_1\",\n",
            "                        \"political\"\n",
            "                    ]\n",
            "                },\n",
            "                {\n",
            "                    \"long_name\": \"South Korea\",\n",
            "                    \"short_name\": \"KR\",\n",
            "                    \"types\": [\n",
            "                        \"country\",\n",
            "                        \"political\"\n",
            "                    ]\n",
            "                }\n",
            "            ],\n",
            "            \"formatted_address\": \"6928-1 Gurae-dong, Gimpo-si, Gyeonggi-do, South Korea\",\n",
            "            \"geometry\": {\n",
            "                \"location\": {\n",
            "                    \"lat\": 37.6471715,\n",
            "                    \"lng\": 126.6309623\n",
            "                },\n",
            "                \"location_type\": \"ROOFTOP\",\n",
            "                \"viewport\": {\n",
            "                    \"northeast\": {\n",
            "                        \"lat\": 37.6485204802915,\n",
            "                        \"lng\": 126.6323112802915\n",
            "                    },\n",
            "                    \"southwest\": {\n",
            "                        \"lat\": 37.6458225197085,\n",
            "                        \"lng\": 126.6296133197085\n",
            "                    }\n",
            "                }\n",
            "            },\n",
            "            \"place_id\": \"ChIJZfcbnkqHfDURzicQMFyjpe4\",\n",
            "            \"plus_code\": {\n",
            "                \"compound_code\": \"JJWJ+V9 Gimpo-si, Gyeonggi-do, South Korea\",\n",
            "                \"global_code\": \"8Q98JJWJ+V9\"\n",
            "            },\n",
            "            \"types\": [\n",
            "                \"street_address\"\n",
            "            ]\n",
            "        },\n",
            "        {\n",
            "            \"address_components\": [\n",
            "                {\n",
            "                    \"long_name\": \"JJWJ+M8\",\n",
            "                    \"short_name\": \"JJWJ+M8\",\n",
            "                    \"types\": [\n",
            "                        \"plus_code\"\n",
            "                    ]\n",
            "                },\n",
            "                {\n",
            "                    \"long_name\": \"Gimpo-si\",\n",
            "                    \"short_name\": \"Gimpo-si\",\n",
            "                    \"types\": [\n",
            "                        \"locality\",\n",
            "                        \"political\"\n",
            "                    ]\n",
            "                },\n",
            "                {\n",
            "                    \"long_name\": \"Gyeonggi-do\",\n",
            "                    \"short_name\": \"Gyeonggi-do\",\n",
            "                    \"types\": [\n",
            "                        \"administrative_area_level_1\",\n",
            "                        \"political\"\n",
            "                    ]\n",
            "                },\n",
            "                {\n",
            "                    \"long_name\": \"South Korea\",\n",
            "                    \"short_name\": \"KR\",\n",
            "                    \"types\": [\n",
            "                        \"country\",\n",
            "                        \"political\"\n",
            "                    ]\n",
            "                }\n",
            "            ],\n",
            "            \"formatted_address\": \"JJWJ+M8 Gimpo-si, Gyeonggi-do, South Korea\",\n",
            "            \"geometry\": {\n",
            "                \"bounds\": {\n",
            "                    \"northeast\": {\n",
            "                        \"lat\": 37.64675,\n",
            "                        \"lng\": 126.630875\n",
            "                    },\n",
            "                    \"southwest\": {\n",
            "                        \"lat\": 37.646625,\n",
            "                        \"lng\": 126.63075\n",
            "                    }\n",
            "                },\n",
            "                \"location\": {\n",
            "                    \"lat\": 37.6467335,\n",
            "                    \"lng\": 126.6308414\n",
            "                },\n",
            "                \"location_type\": \"GEOMETRIC_CENTER\",\n",
            "                \"viewport\": {\n",
            "                    \"northeast\": {\n",
            "                        \"lat\": 37.64803648029149,\n",
            "                        \"lng\": 126.6321614802915\n",
            "                    },\n",
            "                    \"southwest\": {\n",
            "                        \"lat\": 37.6453385197085,\n",
            "                        \"lng\": 126.6294635197085\n",
            "                    }\n",
            "                }\n",
            "            },\n",
            "            \"place_id\": \"GhIJIt3PKcjSQkARn32btF-oX0A\",\n",
            "            \"plus_code\": {\n",
            "                \"compound_code\": \"JJWJ+M8 Gimpo-si, Gyeonggi-do, South Korea\",\n",
            "                \"global_code\": \"8Q98JJWJ+M8\"\n",
            "            },\n",
            "            \"types\": [\n",
            "                \"plus_code\"\n",
            "            ]\n",
            "        },\n",
            "        {\n",
            "            \"address_components\": [\n",
            "                {\n",
            "                    \"long_name\": \"구래동\",\n",
            "                    \"short_name\": \"구래동\",\n",
            "                    \"types\": [\n",
            "                        \"political\",\n",
            "                        \"sublocality\",\n",
            "                        \"sublocality_level_2\"\n",
            "                    ]\n",
            "                },\n",
            "                {\n",
            "                    \"long_name\": \"김포시\",\n",
            "                    \"short_name\": \"김포시\",\n",
            "                    \"types\": [\n",
            "                        \"locality\",\n",
            "                        \"political\"\n",
            "                    ]\n",
            "                },\n",
            "                {\n",
            "                    \"long_name\": \"경기도\",\n",
            "                    \"short_name\": \"경기도\",\n",
            "                    \"types\": [\n",
            "                        \"administrative_area_level_1\",\n",
            "                        \"political\"\n",
            "                    ]\n",
            "                },\n",
            "                {\n",
            "                    \"long_name\": \"South Korea\",\n",
            "                    \"short_name\": \"KR\",\n",
            "                    \"types\": [\n",
            "                        \"country\",\n",
            "                        \"political\"\n",
            "                    ]\n",
            "                }\n",
            "            ],\n",
            "            \"formatted_address\": \"South Korea, 경기도 김포시 구래동\",\n",
            "            \"geometry\": {\n",
            "                \"bounds\": {\n",
            "                    \"northeast\": {\n",
            "                        \"lat\": 37.6513709,\n",
            "                        \"lng\": 126.6356755\n",
            "                    },\n",
            "                    \"southwest\": {\n",
            "                        \"lat\": 37.6358998,\n",
            "                        \"lng\": 126.6175682\n",
            "                    }\n",
            "                },\n",
            "                \"location\": {\n",
            "                    \"lat\": 37.6446147,\n",
            "                    \"lng\": 126.626553\n",
            "                },\n",
            "                \"location_type\": \"APPROXIMATE\",\n",
            "                \"viewport\": {\n",
            "                    \"northeast\": {\n",
            "                        \"lat\": 37.6513709,\n",
            "                        \"lng\": 126.6356755\n",
            "                    },\n",
            "                    \"southwest\": {\n",
            "                        \"lat\": 37.6358998,\n",
            "                        \"lng\": 126.6175682\n",
            "                    }\n",
            "                }\n",
            "            },\n",
            "            \"place_id\": \"ChIJyU0gs7WAfDURi4xsJnBcVvE\",\n",
            "            \"types\": [\n",
            "                \"political\",\n",
            "                \"sublocality\",\n",
            "                \"sublocality_level_2\"\n",
            "            ]\n",
            "        },\n",
            "        {\n",
            "            \"address_components\": [\n",
            "                {\n",
            "                    \"long_name\": \"Gimpohangang 4-ro\",\n",
            "                    \"short_name\": \"Gimpohangang 4-ro\",\n",
            "                    \"types\": [\n",
            "                        \"political\",\n",
            "                        \"sublocality\",\n",
            "                        \"sublocality_level_4\"\n",
            "                    ]\n",
            "                },\n",
            "                {\n",
            "                    \"long_name\": \"Gimpo-si\",\n",
            "                    \"short_name\": \"Gimpo-si\",\n",
            "                    \"types\": [\n",
            "                        \"locality\",\n",
            "                        \"political\"\n",
            "                    ]\n",
            "                },\n",
            "                {\n",
            "                    \"long_name\": \"Gyeonggi-do\",\n",
            "                    \"short_name\": \"Gyeonggi-do\",\n",
            "                    \"types\": [\n",
            "                        \"administrative_area_level_1\",\n",
            "                        \"political\"\n",
            "                    ]\n",
            "                },\n",
            "                {\n",
            "                    \"long_name\": \"South Korea\",\n",
            "                    \"short_name\": \"KR\",\n",
            "                    \"types\": [\n",
            "                        \"country\",\n",
            "                        \"political\"\n",
            "                    ]\n",
            "                }\n",
            "            ],\n",
            "            \"formatted_address\": \"Gimpohangang 4-ro, Gimpo-si, Gyeonggi-do, South Korea\",\n",
            "            \"geometry\": {\n",
            "                \"bounds\": {\n",
            "                    \"northeast\": {\n",
            "                        \"lat\": 37.6501931,\n",
            "                        \"lng\": 126.6789299\n",
            "                    },\n",
            "                    \"southwest\": {\n",
            "                        \"lat\": 37.6394739,\n",
            "                        \"lng\": 126.6205237\n",
            "                    }\n",
            "                },\n",
            "                \"location\": {\n",
            "                    \"lat\": 37.64518890000001,\n",
            "                    \"lng\": 126.6506697\n",
            "                },\n",
            "                \"location_type\": \"APPROXIMATE\",\n",
            "                \"viewport\": {\n",
            "                    \"northeast\": {\n",
            "                        \"lat\": 37.6501931,\n",
            "                        \"lng\": 126.6789299\n",
            "                    },\n",
            "                    \"southwest\": {\n",
            "                        \"lat\": 37.6394739,\n",
            "                        \"lng\": 126.6205237\n",
            "                    }\n",
            "                }\n",
            "            },\n",
            "            \"place_id\": \"ChIJKRneN8SGfDURlAHd-0Xfz2g\",\n",
            "            \"types\": [\n",
            "                \"political\",\n",
            "                \"sublocality\",\n",
            "                \"sublocality_level_4\"\n",
            "            ]\n",
            "        },\n",
            "        {\n",
            "            \"address_components\": [\n",
            "                {\n",
            "                    \"long_name\": \"Gimpo-si\",\n",
            "                    \"short_name\": \"Gimpo-si\",\n",
            "                    \"types\": [\n",
            "                        \"locality\",\n",
            "                        \"political\"\n",
            "                    ]\n",
            "                },\n",
            "                {\n",
            "                    \"long_name\": \"Gyeonggi-do\",\n",
            "                    \"short_name\": \"Gyeonggi-do\",\n",
            "                    \"types\": [\n",
            "                        \"administrative_area_level_1\",\n",
            "                        \"political\"\n",
            "                    ]\n",
            "                },\n",
            "                {\n",
            "                    \"long_name\": \"South Korea\",\n",
            "                    \"short_name\": \"KR\",\n",
            "                    \"types\": [\n",
            "                        \"country\",\n",
            "                        \"political\"\n",
            "                    ]\n",
            "                }\n",
            "            ],\n",
            "            \"formatted_address\": \"Gimpo-si, Gyeonggi-do, South Korea\",\n",
            "            \"geometry\": {\n",
            "                \"bounds\": {\n",
            "                    \"northeast\": {\n",
            "                        \"lat\": 37.7828864,\n",
            "                        \"lng\": 126.8028091\n",
            "                    },\n",
            "                    \"southwest\": {\n",
            "                        \"lat\": 37.5795859,\n",
            "                        \"lng\": 126.5170575\n",
            "                    }\n",
            "                },\n",
            "                \"location\": {\n",
            "                    \"lat\": 37.6593806,\n",
            "                    \"lng\": 126.5930681\n",
            "                },\n",
            "                \"location_type\": \"APPROXIMATE\",\n",
            "                \"viewport\": {\n",
            "                    \"northeast\": {\n",
            "                        \"lat\": 37.7828864,\n",
            "                        \"lng\": 126.8028091\n",
            "                    },\n",
            "                    \"southwest\": {\n",
            "                        \"lat\": 37.5795859,\n",
            "                        \"lng\": 126.5170575\n",
            "                    }\n",
            "                }\n",
            "            },\n",
            "            \"place_id\": \"ChIJJY4Cmk6GfDURSOGVqk7LIrY\",\n",
            "            \"types\": [\n",
            "                \"locality\",\n",
            "                \"political\"\n",
            "            ]\n",
            "        },\n",
            "        {\n",
            "            \"address_components\": [\n",
            "                {\n",
            "                    \"long_name\": \"Gyeonggi-do\",\n",
            "                    \"short_name\": \"Gyeonggi-do\",\n",
            "                    \"types\": [\n",
            "                        \"administrative_area_level_1\",\n",
            "                        \"political\"\n",
            "                    ]\n",
            "                },\n",
            "                {\n",
            "                    \"long_name\": \"South Korea\",\n",
            "                    \"short_name\": \"KR\",\n",
            "                    \"types\": [\n",
            "                        \"country\",\n",
            "                        \"political\"\n",
            "                    ]\n",
            "                }\n",
            "            ],\n",
            "            \"formatted_address\": \"Gyeonggi-do, South Korea\",\n",
            "            \"geometry\": {\n",
            "                \"bounds\": {\n",
            "                    \"northeast\": {\n",
            "                        \"lat\": 38.2814437,\n",
            "                        \"lng\": 127.848123\n",
            "                    },\n",
            "                    \"southwest\": {\n",
            "                        \"lat\": 36.8937812,\n",
            "                        \"lng\": 126.380031\n",
            "                    }\n",
            "                },\n",
            "                \"location\": {\n",
            "                    \"lat\": 37.4142849,\n",
            "                    \"lng\": 127.4681396\n",
            "                },\n",
            "                \"location_type\": \"APPROXIMATE\",\n",
            "                \"viewport\": {\n",
            "                    \"northeast\": {\n",
            "                        \"lat\": 38.2814437,\n",
            "                        \"lng\": 127.848123\n",
            "                    },\n",
            "                    \"southwest\": {\n",
            "                        \"lat\": 36.8937812,\n",
            "                        \"lng\": 126.380031\n",
            "                    }\n",
            "                }\n",
            "            },\n",
            "            \"place_id\": \"ChIJjbZ-5eR5fDURwrX21pgfDAE\",\n",
            "            \"types\": [\n",
            "                \"administrative_area_level_1\",\n",
            "                \"political\"\n",
            "            ]\n",
            "        },\n",
            "        {\n",
            "            \"address_components\": [\n",
            "                {\n",
            "                    \"long_name\": \"South Korea\",\n",
            "                    \"short_name\": \"KR\",\n",
            "                    \"types\": [\n",
            "                        \"country\",\n",
            "                        \"political\"\n",
            "                    ]\n",
            "                }\n",
            "            ],\n",
            "            \"formatted_address\": \"South Korea\",\n",
            "            \"geometry\": {\n",
            "                \"bounds\": {\n",
            "                    \"northeast\": {\n",
            "                        \"lat\": 38.63400000000001,\n",
            "                        \"lng\": 131.1603\n",
            "                    },\n",
            "                    \"southwest\": {\n",
            "                        \"lat\": 33.0041,\n",
            "                        \"lng\": 124.5863\n",
            "                    }\n",
            "                },\n",
            "                \"location\": {\n",
            "                    \"lat\": 35.907757,\n",
            "                    \"lng\": 127.766922\n",
            "                },\n",
            "                \"location_type\": \"APPROXIMATE\",\n",
            "                \"viewport\": {\n",
            "                    \"northeast\": {\n",
            "                        \"lat\": 38.63400000000001,\n",
            "                        \"lng\": 131.1603\n",
            "                    },\n",
            "                    \"southwest\": {\n",
            "                        \"lat\": 33.0041,\n",
            "                        \"lng\": 124.5863\n",
            "                    }\n",
            "                }\n",
            "            },\n",
            "            \"place_id\": \"ChIJm7oRy-tVZDURS9uIugCbJJE\",\n",
            "            \"types\": [\n",
            "                \"country\",\n",
            "                \"political\"\n",
            "            ]\n",
            "        }\n",
            "    ],\n",
            "    \"status\": \"OK\"\n",
            "}\n"
          ]
        }
      ]
    },
    {
      "cell_type": "markdown",
      "source": [
        "## 수집"
      ],
      "metadata": {
        "id": "NIFhR-LLKTi6"
      }
    },
    {
      "cell_type": "code",
      "source": [
        "import pandas as pd\n",
        "\n",
        "data = pd.read_csv('buildings.csv')\n",
        "data"
      ],
      "metadata": {
        "id": "gjvXgDwfKVcX"
      },
      "execution_count": null,
      "outputs": []
    },
    {
      "cell_type": "code",
      "source": [
        "API_KEY = \"\""
      ],
      "metadata": {
        "id": "ihvF3KcLKW9E"
      },
      "execution_count": null,
      "outputs": []
    },
    {
      "cell_type": "code",
      "source": [
        "import requests\n",
        "\n",
        "def get_address_from_coords(x, y):\n",
        "    url = \"https://dapi.kakao.com/v2/local/geo/coord2address.json\"\n",
        "    headers = {\"Authorization\": f\"KakaoAK {API_KEY}\"}\n",
        "    params = {\"x\": x, \"y\": y, \"input_coord\": \"WGS84\"}\n",
        "\n",
        "    response = requests.get(url, headers = headers, params = params)\n",
        "\n",
        "    if response.status_code == 200:\n",
        "        result = response.json()\n",
        "        documents = result.get(\"documents\", [])\n",
        "\n",
        "        if documents:\n",
        "            address_info = documents[0].get(\"address\", {})\n",
        "            road_address_info = documents[0].get(\"road_address\", {})\n",
        "\n",
        "            return {\"지번주소\": address_info.get(\"address_name\", \"\"),\n",
        "                    \"도로명주소\": road_address_info[\"address_name\"] if road_address_info else \"\",\n",
        "                    '건물 이름': road_address_info[\"building_name\"] if road_address_info else \"\",\n",
        "                    '우편번호': road_address_info[\"zone_no\"] if road_address_info else \"\"}\n",
        "        else:\n",
        "            return {\"지번주소\": \"\", \"도로명주소\": \"\", \"건물 이름\": \"\", \"우편번호\": \"\"}\n",
        "    else:\n",
        "        return {\"error\": f\"API 요청 실패 (HTTP {response.status_code})\"}"
      ],
      "metadata": {
        "id": "wAQMNPPLKZAA"
      },
      "execution_count": null,
      "outputs": []
    },
    {
      "cell_type": "code",
      "source": [
        "import time\n",
        "from tqdm import tqdm\n",
        "\n",
        "road_address = list()\n",
        "address = list()\n",
        "building_name = list()\n",
        "zone_no = list()\n",
        "\n",
        "data1 = data[99000:]\n",
        "data1_1 = data1[:17000]\n",
        "\n",
        "for idx, row in tqdm(data1.iterrows(), total=len(data1)):\n",
        "  try:\n",
        "    x = row['lon']\n",
        "    y = row['lat']\n",
        "\n",
        "    res = get_address_from_coords(x, y)\n",
        "\n",
        "    road_address.append(res.get('도로명주소', \"\"))\n",
        "    address.append(res.get('지번주소', \"\"))\n",
        "    building_name.append(res.get('건물 이름', \"\"))\n",
        "    zone_no.append(res.get('우편번호', \"\"))\n",
        "    time.sleep(0.1)\n",
        "\n",
        "  except Exception:\n",
        "    print(Exception)\n",
        "    road_address.append(\"\")\n",
        "    address.append(\"\")\n",
        "    building_name.append(\"\")\n",
        "    zone_no.append(\"\")\n",
        "\n",
        "data1['road_address'] = road_address\n",
        "data1['address'] = address\n",
        "data1['building_name'] = building_name\n",
        "data1['zone_no'] = zone_no\n",
        "\n",
        "data1"
      ],
      "metadata": {
        "id": "9CTflbCVKcGO"
      },
      "execution_count": null,
      "outputs": []
    },
    {
      "cell_type": "code",
      "source": [
        "data1.to_csv('building_address(99000-).csv')"
      ],
      "metadata": {
        "id": "ZDl0Gk3pKdvI"
      },
      "execution_count": null,
      "outputs": []
    }
  ]
}